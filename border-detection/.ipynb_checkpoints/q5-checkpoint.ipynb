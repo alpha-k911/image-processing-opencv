{
 "cells": [
  {
   "cell_type": "code",
   "execution_count": 1,
   "metadata": {},
   "outputs": [],
   "source": [
    "import cv2\n",
    "import numpy as np\n",
    "from matplotlib import pyplot as plt"
   ]
  },
  {
   "cell_type": "code",
   "execution_count": 2,
   "metadata": {},
   "outputs": [],
   "source": [
    "def show(img):\n",
    "    cv2.imshow(\"image\",img)\n",
    "    cv2.waitKey(0)\n",
    "    cv2.destroyAllWindows()"
   ]
  },
  {
   "cell_type": "code",
   "execution_count": 17,
   "metadata": {},
   "outputs": [],
   "source": [
    "img  = cv2.imread(\"data/body1.bmp\",0)\n",
    "show(img)\n",
    "img1  = cv2.imread(\"data/body2.bmp\",0)\n",
    "show(img1)\n"
   ]
  },
  {
   "cell_type": "code",
   "execution_count": 5,
   "metadata": {},
   "outputs": [],
   "source": [
    "element = np.array(([0,1,0],[1,1,1],[0,1,0]))*255"
   ]
  },
  {
   "cell_type": "code",
   "execution_count": 6,
   "metadata": {},
   "outputs": [
    {
     "data": {
      "text/plain": [
       "array([[  0, 255,   0],\n",
       "       [255, 255, 255],\n",
       "       [  0, 255,   0]])"
      ]
     },
     "execution_count": 6,
     "metadata": {},
     "output_type": "execute_result"
    }
   ],
   "source": [
    "element"
   ]
  },
  {
   "cell_type": "code",
   "execution_count": 7,
   "metadata": {},
   "outputs": [],
   "source": [
    "def hit(image, temp,a,b):\n",
    "    c = 0\n",
    "    h_t, w_t = temp.shape\n",
    "    \n",
    "    for u in range(0,w_t):\n",
    "        for v in range(0,h_t):\n",
    "            if temp[v,u] == 255 and temp[v,u] == image[b-h_t//2+v,a-w_t//2+u]:\n",
    "                return 255\n",
    "    return 0"
   ]
  },
  {
   "cell_type": "code",
   "execution_count": 8,
   "metadata": {},
   "outputs": [],
   "source": [
    "def fit(image, temp,a,b):\n",
    "#     c = 0\n",
    "    h_t, w_t = temp.shape\n",
    "    \n",
    "    for u in range(0,w_t):\n",
    "        for v in range(0,h_t):\n",
    "            if temp[v,u] == 255 and temp[v,u] != image[b-h_t//2+v,a-w_t//2+u]:\n",
    "                return 0\n",
    "    return 255"
   ]
  },
  {
   "cell_type": "code",
   "execution_count": 9,
   "metadata": {},
   "outputs": [],
   "source": [
    "def dilation(img,t):\n",
    "    h,w  = img.shape\n",
    "    h_t, w_t = t.shape\n",
    "    empty = np.zeros((h,w))\n",
    "    for i in range(w_t//2,w-w_t//2):\n",
    "        for j in range(h_t//2,h-h_t//2):\n",
    "            c = hit(img,t,i,j)\n",
    "            empty[j,i] = c\n",
    "    return empty"
   ]
  },
  {
   "cell_type": "code",
   "execution_count": 10,
   "metadata": {},
   "outputs": [],
   "source": [
    "def erosion(img,t):\n",
    "    h,w  = img.shape\n",
    "    h_t, w_t = t.shape\n",
    "    empty = np.zeros((h,w))\n",
    "    for i in range(w_t//2,w-w_t//2):\n",
    "        for j in range(h_t//2,h-h_t//2):\n",
    "            c = fit(img,t,i,j)\n",
    "            empty[j,i] = c\n",
    "    return empty"
   ]
  },
  {
   "cell_type": "code",
   "execution_count": 11,
   "metadata": {},
   "outputs": [],
   "source": [
    "show(erosion(img,element))"
   ]
  },
  {
   "cell_type": "code",
   "execution_count": 12,
   "metadata": {},
   "outputs": [
    {
     "data": {
      "image/png": "[encoded data removed]",
      "text/plain": [
       "<Figure size 432x288 with 1 Axes>"
      ]
     },
     "metadata": {
      "needs_background": "light"
     },
     "output_type": "display_data"
    }
   ],
   "source": [
    "plt.imshow(img-erosion(img,element), cmap='gray')\n",
    "plt.show()"
   ]
  },
  {
   "cell_type": "code",
   "execution_count": 13,
   "metadata": {},
   "outputs": [],
   "source": [
    "def opening(img,temp):\n",
    "    return dilation(erosion(img,temp),temp)\n",
    "\n",
    "def closing(img,temp):\n",
    "    return erosion(dilation(img,temp),temp)"
   ]
  },
  {
   "cell_type": "code",
   "execution_count": 16,
   "metadata": {
    "scrolled": false
   },
   "outputs": [
    {
     "data": {
      "image/png": "[encoded data removed]",
      "text/plain": [
       "<Figure size 432x288 with 1 Axes>"
      ]
     },
     "metadata": {
      "needs_background": "light"
     },
     "output_type": "display_data"
    },
    {
     "data": {
      "image/png": "[encoded data removed]",
      "text/plain": [
       "<Figure size 432x288 with 1 Axes>"
      ]
     },
     "metadata": {
      "needs_background": "light"
     },
     "output_type": "display_data"
    }
   ],
   "source": [
    "img_open = opening(img,element)\n",
    "img_close = closing(img,element)\n",
    "plt.imshow(img_open, cmap='gray')\n",
    "plt.show()\n",
    "plt.imshow(img_close, cmap='gray')\n",
    "plt.show()"
   ]
  },
  {
   "cell_type": "code",
   "execution_count": 18,
   "metadata": {},
   "outputs": [
    {
     "data": {
      "image/png": "[encoded data removed]",
      "text/plain": [
       "<Figure size 432x288 with 1 Axes>"
      ]
     },
     "metadata": {
      "needs_background": "light"
     },
     "output_type": "display_data"
    },
    {
     "data": {
      "image/png": "[encoded data removed]",
      "text/plain": [
       "<Figure size 432x288 with 1 Axes>"
      ]
     },
     "metadata": {
      "needs_background": "light"
     },
     "output_type": "display_data"
    }
   ],
   "source": [
    "img1_open = opening(img1,element)\n",
    "img1_close = closing(img1,element)\n",
    "plt.imshow(img1_open, cmap='gray')\n",
    "plt.show()\n",
    "plt.imshow(img1_close, cmap='gray')\n",
    "plt.show()"
   ]
  }
 ],
 "metadata": {
  "kernelspec": {
   "display_name": "Python 3",
   "language": "python",
   "name": "python3"
  },
  "language_info": {
   "codemirror_mode": {
    "name": "ipython",
    "version": 3
   },
   "file_extension": ".py",
   "mimetype": "text/x-python",
   "name": "python",
   "nbconvert_exporter": "python",
   "pygments_lexer": "ipython3",
   "version": "3.7.5"
  }
 },
 "nbformat": 4,
 "nbformat_minor": 2
}
