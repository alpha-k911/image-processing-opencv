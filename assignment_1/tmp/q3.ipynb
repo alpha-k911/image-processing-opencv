{
 "cells": [
  {
   "cell_type": "code",
   "execution_count": 1,
   "metadata": {},
   "outputs": [],
   "source": [
    "import cv2\n",
    "import numpy as np"
   ]
  },
  {
   "cell_type": "code",
   "execution_count": 2,
   "metadata": {},
   "outputs": [],
   "source": [
    "def show(image):\n",
    "    cv2.imshow(\"image\",image)\n",
    "    cv2.waitKey(0)\n",
    "    cv2.destroyAllWindows()"
   ]
  },
  {
   "cell_type": "code",
   "execution_count": 46,
   "metadata": {},
   "outputs": [
    {
     "name": "stdout",
     "output_type": "stream",
     "text": [
      "40\n"
     ]
    },
    {
     "name": "stderr",
     "output_type": "stream",
     "text": [
      "/usr/lib/python3/dist-packages/ipykernel_launcher.py:8: RuntimeWarning: divide by zero encountered in log\n",
      "  \n"
     ]
    }
   ],
   "source": [
    "img = cv2.imread('images_1/spine.tif') \n",
    "# show(img)\n",
    "\n",
    "c = 40\n",
    "# c = 255/(np.log(1 + np.max(img))) \n",
    "\n",
    "print(c)\n",
    "logged_img = c * np.log(1 + img)\n",
    "\n",
    "# type(logged_img)\n",
    "\n",
    "logged_img = np.array(logged_img, dtype = np.uint8) \n",
    "show(logged_img)\n",
    "# cv2.imwrite('images_1/logged_img.jpg', logged_img) "
   ]
  },
  {
   "cell_type": "code",
   "execution_count": 47,
   "metadata": {},
   "outputs": [],
   "source": [
    "for gamma in [0.1, 0.3, 0.4, 0.7, 1.2]: \n",
    "      \n",
    "    # Apply gamma correction. \n",
    "    gamma_img = np.array(255*(img / 255) ** gamma, dtype = 'uint8')\n",
    "#     show(logged_img)\n",
    "    show(gamma_img)\n",
    "    # Save edited images. \n",
    "#     cv2.imwrite('gamma_transformed'+str(gamma)+'.jpg', gamma_corrected)"
   ]
  }
 ],
 "metadata": {
  "kernelspec": {
   "display_name": "Python 3",
   "language": "python",
   "name": "python3"
  },
  "language_info": {
   "codemirror_mode": {
    "name": "ipython",
    "version": 3
   },
   "file_extension": ".py",
   "mimetype": "text/x-python",
   "name": "python",
   "nbconvert_exporter": "python",
   "pygments_lexer": "ipython3",
   "version": "3.7.5"
  }
 },
 "nbformat": 4,
 "nbformat_minor": 2
}
