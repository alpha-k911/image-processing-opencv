{
 "cells": [
  {
   "cell_type": "code",
   "execution_count": 1,
   "metadata": {},
   "outputs": [],
   "source": [
    "import cv2\n",
    "import numpy as np\n",
    "from matplotlib import pyplot as plt"
   ]
  },
  {
   "cell_type": "code",
   "execution_count": 2,
   "metadata": {},
   "outputs": [],
   "source": [
    "def show(image):\n",
    "    cv2.imshow(\"image\",image)\n",
    "    cv2.waitKey(0)\n",
    "    cv2.destroyAllWindows()"
   ]
  },
  {
   "cell_type": "code",
   "execution_count": 3,
   "metadata": {},
   "outputs": [],
   "source": [
    "def generateHistogram(image):\n",
    "    data = {}\n",
    "    for i in range(256):\n",
    "        data[i] = 0\n",
    "    h,w = image.shape\n",
    "    for i in range(w):\n",
    "        for j in range(h):\n",
    "            data[image[j][i]] += 1\n",
    "            \n",
    "#     x_range = np.arange(0,256,1)\n",
    "#     plt.xlim([0,256])\n",
    "#     plt.bar(x_range,data.values())\n",
    "    return data"
   ]
  },
  {
   "cell_type": "code",
   "execution_count": 12,
   "metadata": {},
   "outputs": [],
   "source": [
    "def defaultHistogramFunction(image):\n",
    "    hist,bins = np.histogram(image.flatten(),256,[0,256])\n",
    "    print(hist)\n",
    "    plt.hist(image.flatten(),256,[0,256], color = 'r')\n",
    "    plt.xlim([0,256])\n",
    "    plt.show()"
   ]
  },
  {
   "cell_type": "code",
   "execution_count": 4,
   "metadata": {},
   "outputs": [],
   "source": [
    "def domIntensity(image,k):\n",
    "    hist = generateHistogram(img)\n",
    "    intensities = []\n",
    "    for i in range(256):\n",
    "        intensities.append((i,hist[i]))\n",
    "    intensities_s = sorted(a,key=lambda x: x[1],reverse=True)\n",
    "    palette_list = []\n",
    "    for i in range(k):\n",
    "        palette_list.append(intensities_s[i][0])\n",
    "#     palette_list.reverse()\n",
    "    return palette_list"
   ]
  },
  {
   "cell_type": "code",
   "execution_count": 5,
   "metadata": {},
   "outputs": [],
   "source": [
    "def dis(palette):\n",
    "    tmp = np.ones((320,320))\n",
    "    m = np.ones((320,5))*0\n",
    "    palette_images = []\n",
    "    for i in palette:\n",
    "        palette_images.append(tmp*i)\n",
    "#         palette_images.append(m)\n",
    "    res = np.hstack(palette_images)\n",
    "    return res"
   ]
  },
  {
   "cell_type": "code",
   "execution_count": 6,
   "metadata": {},
   "outputs": [],
   "source": [
    "img = cv2.imread('../images_1/fullmoon.tiff',0)\n",
    "show(img)"
   ]
  },
  {
   "cell_type": "code",
   "execution_count": 9,
   "metadata": {
    "scrolled": true
   },
   "outputs": [
    {
     "data": {
      "text/plain": [
       "<BarContainer object of 256 artists>"
      ]
     },
     "execution_count": 9,
     "metadata": {},
     "output_type": "execute_result"
    },
    {
     "data": {
      "image/png": "[encoded data removed]",
      "text/plain": [
       "<Figure size 432x288 with 1 Axes>"
      ]
     },
     "metadata": {
      "needs_background": "light"
     },
     "output_type": "display_data"
    }
   ],
   "source": [
    "hist = generateHistogram(img)\n",
    "# hist = np.array(hist)\n",
    "plt.bar(np.arange(0,256,1),hist.values())"
   ]
  },
  {
   "cell_type": "code",
   "execution_count": 13,
   "metadata": {},
   "outputs": [
    {
     "name": "stdout",
     "output_type": "stream",
     "text": [
      "[21076  1229   397    72    37    14    12    16    12    10    13    13\n",
      "    11     6     7    10     8     8    12     6     9    12     9     8\n",
      "     7     8     9     3    12     4     8     4     5     6    10     4\n",
      "    11     6    10     4     6     7     6     5     3    13    16    35\n",
      "    32    47    66    72    84    94    83   106    83   106   117   118\n",
      "   177   188   215   148   161   155   153   134   120   127    86    88\n",
      "    93    97    91   101    85    80    89    96    85    78   100   100\n",
      "    98    96   119   105    91   100    99   116   120   109   120   111\n",
      "   110   101   103   133    87   118   108   105   135    97   128   120\n",
      "   124   121   132   129   133   128   113   157   164   145   144   165\n",
      "   161   191   151   211   172   182   193   174   169   168   166   205\n",
      "   210   233   246   235   231   258   281   252   257   306   296   305\n",
      "   352   335   331   353   389   347   369   419   431   403   434   468\n",
      "   487   495   493   523   473   506   536   552   556   584   555   575\n",
      "   573   619   658   639   602   644   646   619   646   649   643   640\n",
      "   649   685   669   696   677   626   675   629   609   582   681   567\n",
      "   581   550   531   540   457   479   504   460   482   384   385   358\n",
      "   343   333   292   278   260   245   264   218   200   199   167   143\n",
      "   131   133   113    94    70    58    63    50    49    48    25    17\n",
      "    14    13     4    12     1     1     3     4     1     1     0     0\n",
      "     0     0     0     1     0     0     1     0     0     0     0     0\n",
      "     0     0     0     0]\n"
     ]
    },
    {
     "data": {
      "image/png": "[encoded data removed]",
      "text/plain": [
       "<Figure size 432x288 with 1 Axes>"
      ]
     },
     "metadata": {
      "needs_background": "light"
     },
     "output_type": "display_data"
    }
   ],
   "source": [
    "defaultHistogramFunction(img)"
   ]
  },
  {
   "cell_type": "code",
   "execution_count": 35,
   "metadata": {},
   "outputs": [],
   "source": [
    "hist = np.array(list(generateHistogram(img)))"
   ]
  },
  {
   "cell_type": "code",
   "execution_count": 117,
   "metadata": {},
   "outputs": [],
   "source": [
    "a = []\n",
    "for i in range(256):\n",
    "    a.append((i,hist[i]))\n",
    "a_s = sorted(a,key=lambda x: x[1],reverse=True)"
   ]
  },
  {
   "cell_type": "code",
   "execution_count": 118,
   "metadata": {},
   "outputs": [
    {
     "data": {
      "text/plain": [
       "[(0, 21076),\n",
       " (1, 1229),\n",
       " (183, 696),\n",
       " (181, 685),\n",
       " (190, 681),\n",
       " (184, 677),\n",
       " (186, 675),\n",
       " (182, 669),\n",
       " (170, 658),\n",
       " (177, 649),\n",
       " (180, 649),\n",
       " (174, 646),\n",
       " (176, 646),\n",
       " (173, 644),\n",
       " (178, 643),\n",
       " (179, 640),\n",
       " (171, 639),\n",
       " (187, 629),\n",
       " (185, 626),\n",
       " (169, 619),\n",
       " (175, 619),\n",
       " (188, 609),\n",
       " (172, 602),\n",
       " (165, 584),\n",
       " (189, 582),\n",
       " (192, 581),\n",
       " (167, 575),\n",
       " (168, 573),\n",
       " (191, 567),\n",
       " (164, 556),\n",
       " (166, 555),\n",
       " (163, 552),\n",
       " (193, 550),\n",
       " (195, 540),\n",
       " (162, 536),\n",
       " (194, 531),\n",
       " (159, 523),\n",
       " (161, 506),\n",
       " (198, 504),\n",
       " (157, 495),\n",
       " (158, 493),\n",
       " (156, 487),\n",
       " (200, 482),\n",
       " (197, 479),\n",
       " (160, 473),\n",
       " (155, 468),\n",
       " (199, 460),\n",
       " (196, 457),\n",
       " (154, 434),\n",
       " (152, 431),\n",
       " (151, 419),\n",
       " (153, 403),\n",
       " (2, 397),\n",
       " (148, 389),\n",
       " (202, 385),\n",
       " (201, 384),\n",
       " (150, 369),\n",
       " (203, 358),\n",
       " (147, 353),\n",
       " (144, 352),\n",
       " (149, 347),\n",
       " (204, 343),\n",
       " (145, 335),\n",
       " (205, 333),\n",
       " (146, 331),\n",
       " (141, 306),\n",
       " (143, 305),\n",
       " (142, 296),\n",
       " (206, 292),\n",
       " (138, 281),\n",
       " (207, 278),\n",
       " (210, 264),\n",
       " (208, 260),\n",
       " (137, 258),\n",
       " (140, 257),\n",
       " (139, 252),\n",
       " (134, 246),\n",
       " (209, 245),\n",
       " (135, 235),\n",
       " (133, 233),\n",
       " (136, 231),\n",
       " (211, 218),\n",
       " (62, 215),\n",
       " (123, 211),\n",
       " (132, 210),\n",
       " (131, 205),\n",
       " (212, 200),\n",
       " (213, 199),\n",
       " (126, 193),\n",
       " (121, 191),\n",
       " (61, 188),\n",
       " (125, 182),\n",
       " (60, 177),\n",
       " (127, 174),\n",
       " (124, 172),\n",
       " (128, 169),\n",
       " (129, 168),\n",
       " (214, 167),\n",
       " (130, 166),\n",
       " (119, 165),\n",
       " (116, 164),\n",
       " (64, 161),\n",
       " (120, 161),\n",
       " (115, 157),\n",
       " (65, 155),\n",
       " (66, 153),\n",
       " (122, 151),\n",
       " (63, 148),\n",
       " (117, 145),\n",
       " (118, 144),\n",
       " (215, 143),\n",
       " (104, 135),\n",
       " (67, 134),\n",
       " (99, 133),\n",
       " (112, 133),\n",
       " (217, 133),\n",
       " (110, 132),\n",
       " (216, 131),\n",
       " (111, 129),\n",
       " (106, 128),\n",
       " (113, 128),\n",
       " (69, 127),\n",
       " (108, 124),\n",
       " (109, 121),\n",
       " (68, 120),\n",
       " (92, 120),\n",
       " (94, 120),\n",
       " (107, 120),\n",
       " (86, 119),\n",
       " (59, 118),\n",
       " (101, 118),\n",
       " (58, 117),\n",
       " (91, 116),\n",
       " (114, 113),\n",
       " (218, 113),\n",
       " (95, 111),\n",
       " (96, 110),\n",
       " (93, 109),\n",
       " (102, 108),\n",
       " (55, 106),\n",
       " (57, 106),\n",
       " (87, 105),\n",
       " (103, 105),\n",
       " (98, 103),\n",
       " (75, 101),\n",
       " (97, 101),\n",
       " (82, 100),\n",
       " (83, 100),\n",
       " (89, 100),\n",
       " (90, 99),\n",
       " (84, 98),\n",
       " (73, 97),\n",
       " (105, 97),\n",
       " (79, 96),\n",
       " (85, 96),\n",
       " (53, 94),\n",
       " (219, 94),\n",
       " (72, 93),\n",
       " (74, 91),\n",
       " (88, 91),\n",
       " (78, 89),\n",
       " (71, 88),\n",
       " (100, 87),\n",
       " (70, 86),\n",
       " (76, 85),\n",
       " (80, 85),\n",
       " (52, 84),\n",
       " (54, 83),\n",
       " (56, 83),\n",
       " (77, 80),\n",
       " (81, 78),\n",
       " (3, 72),\n",
       " (51, 72),\n",
       " (220, 70),\n",
       " (50, 66),\n",
       " (222, 63),\n",
       " (221, 58),\n",
       " (223, 50),\n",
       " (224, 49),\n",
       " (225, 48),\n",
       " (49, 47),\n",
       " (4, 37),\n",
       " (47, 35),\n",
       " (48, 32),\n",
       " (226, 25),\n",
       " (227, 17),\n",
       " (7, 16),\n",
       " (46, 16),\n",
       " (5, 14),\n",
       " (228, 14),\n",
       " (10, 13),\n",
       " (11, 13),\n",
       " (45, 13),\n",
       " (229, 13),\n",
       " (6, 12),\n",
       " (8, 12),\n",
       " (18, 12),\n",
       " (21, 12),\n",
       " (28, 12),\n",
       " (231, 12),\n",
       " (12, 11),\n",
       " (36, 11),\n",
       " (9, 10),\n",
       " (15, 10),\n",
       " (34, 10),\n",
       " (38, 10),\n",
       " (20, 9),\n",
       " (22, 9),\n",
       " (26, 9),\n",
       " (16, 8),\n",
       " (17, 8),\n",
       " (23, 8),\n",
       " (25, 8),\n",
       " (30, 8),\n",
       " (14, 7),\n",
       " (24, 7),\n",
       " (41, 7),\n",
       " (13, 6),\n",
       " (19, 6),\n",
       " (33, 6),\n",
       " (37, 6),\n",
       " (40, 6),\n",
       " (42, 6),\n",
       " (32, 5),\n",
       " (43, 5),\n",
       " (29, 4),\n",
       " (31, 4),\n",
       " (35, 4),\n",
       " (39, 4),\n",
       " (230, 4),\n",
       " (235, 4),\n",
       " (27, 3),\n",
       " (44, 3),\n",
       " (234, 3),\n",
       " (232, 1),\n",
       " (233, 1),\n",
       " (236, 1),\n",
       " (237, 1),\n",
       " (243, 1),\n",
       " (246, 1),\n",
       " (238, 0),\n",
       " (239, 0),\n",
       " (240, 0),\n",
       " (241, 0),\n",
       " (242, 0),\n",
       " (244, 0),\n",
       " (245, 0),\n",
       " (247, 0),\n",
       " (248, 0),\n",
       " (249, 0),\n",
       " (250, 0),\n",
       " (251, 0),\n",
       " (252, 0),\n",
       " (253, 0),\n",
       " (254, 0),\n",
       " (255, 0)]"
      ]
     },
     "execution_count": 118,
     "metadata": {},
     "output_type": "execute_result"
    }
   ],
   "source": [
    "a_s"
   ]
  },
  {
   "cell_type": "code",
   "execution_count": 152,
   "metadata": {
    "scrolled": true
   },
   "outputs": [
    {
     "data": {
      "text/plain": [
       "<matplotlib.image.AxesImage at 0x7f6768efd0d0>"
      ]
     },
     "execution_count": 152,
     "metadata": {},
     "output_type": "execute_result"
    },
    {
     "data": {
      "image/png": "[encoded data removed]",
      "text/plain": [
       "<Figure size 432x288 with 1 Axes>"
      ]
     },
     "metadata": {
      "needs_background": "light"
     },
     "output_type": "display_data"
    }
   ],
   "source": [
    "d = domIntensity(img,5)\n",
    "r = dis(d)\n",
    "plt.imshow(r,cmap='gray')\n",
    "# print(r[0])"
   ]
  }
 ],
 "metadata": {
  "kernelspec": {
   "display_name": "Python 3",
   "language": "python",
   "name": "python3"
  },
  "language_info": {
   "codemirror_mode": {
    "name": "ipython",
    "version": 3
   },
   "file_extension": ".py",
   "mimetype": "text/x-python",
   "name": "python",
   "nbconvert_exporter": "python",
   "pygments_lexer": "ipython3",
   "version": "3.7.5"
  }
 },
 "nbformat": 4,
 "nbformat_minor": 2
}
