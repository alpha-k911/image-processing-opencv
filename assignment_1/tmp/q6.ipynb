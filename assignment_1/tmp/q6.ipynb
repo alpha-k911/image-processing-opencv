{
 "cells": [
  {
   "cell_type": "code",
   "execution_count": 22,
   "metadata": {},
   "outputs": [],
   "source": [
    "import cv2\n",
    "import numpy as np\n",
    "from matplotlib import pyplot as plt"
   ]
  },
  {
   "cell_type": "code",
   "execution_count": 23,
   "metadata": {},
   "outputs": [],
   "source": [
    "def show(image):\n",
    "    cv2.imshow(\"image\",image)\n",
    "    cv2.waitKey(0)\n",
    "    cv2.destroyAllWindows()"
   ]
  },
  {
   "cell_type": "code",
   "execution_count": 64,
   "metadata": {},
   "outputs": [],
   "source": [
    "def generateHistogram(image):\n",
    "    data = {}\n",
    "    for i in range(256):\n",
    "        data[i] = 0\n",
    "    h,w = image.shape\n",
    "    for i in range(w):\n",
    "        for j in range(h):\n",
    "            data[image[j][i]] += 1\n",
    "            \n",
    "#     x_range = np.arange(0,256,1)\n",
    "#     plt.xlim([0,256])\n",
    "#     plt.bar(x_range,data.values())\n",
    "    return data"
   ]
  },
  {
   "cell_type": "code",
   "execution_count": 81,
   "metadata": {},
   "outputs": [],
   "source": [
    "def defaultHistogramFunction(image):\n",
    "    hist,bins = np.histogram(image.flatten(),256,[0,256])\n",
    "    print(hist)\n",
    "    plt.hist(image.flatten(),256,[0,256], color = 'r')\n",
    "    plt.xlim([0,256])\n",
    "    plt.show()"
   ]
  },
  {
   "cell_type": "code",
   "execution_count": 82,
   "metadata": {},
   "outputs": [],
   "source": [
    "def domIntensity(imag,k):\n",
    "    hist = generateHistogram(imag)\n",
    "    intensities = []\n",
    "    for i in range(256):\n",
    "        intensities.append((i,hist[i]))\n",
    "    intensities_s = sorted(a,key=lambda x: x[1],reverse=True)\n",
    "    palette_list = []\n",
    "    for i in range(k):\n",
    "        palette_list.append(intensities_s[i][0])\n",
    "#     palette_list.reverse()\n",
    "    return palette_list"
   ]
  },
  {
   "cell_type": "code",
   "execution_count": 83,
   "metadata": {},
   "outputs": [],
   "source": [
    "def dis(palette):\n",
    "    tmp = np.ones((32,32))\n",
    "    m = np.ones((320,5))*0\n",
    "    palette_images = []\n",
    "    for i in palette:\n",
    "        palette_images.append(tmp*i)\n",
    "#         palette_images.append(m)\n",
    "    res = np.hstack(palette_images)\n",
    "    print(palette)\n",
    "    return res"
   ]
  },
  {
   "cell_type": "code",
   "execution_count": 84,
   "metadata": {},
   "outputs": [],
   "source": [
    "img = cv2.imread('../images_1/histogram1.jpg',0)\n",
    "show(img)"
   ]
  },
  {
   "cell_type": "code",
   "execution_count": 91,
   "metadata": {
    "scrolled": true
   },
   "outputs": [
    {
     "data": {
      "text/plain": [
       "<BarContainer object of 256 artists>"
      ]
     },
     "execution_count": 91,
     "metadata": {},
     "output_type": "execute_result"
    },
    {
     "data": {
      "image/png": "[encoded data removed]",
      "text/plain": [
       "<Figure size 432x288 with 1 Axes>"
      ]
     },
     "metadata": {
      "needs_background": "light"
     },
     "output_type": "display_data"
    }
   ],
   "source": [
    "hist = generateHistogram(img)\n",
    "# hist = np.array(hist)\n",
    "plt.bar(np.arange(0,256,1),hist.values())"
   ]
  },
  {
   "cell_type": "code",
   "execution_count": 92,
   "metadata": {
    "scrolled": false
   },
   "outputs": [
    {
     "name": "stdout",
     "output_type": "stream",
     "text": [
      "[    0     0     0     0     0     0     0     0     0     0     0     0\n",
      "     0     0     0     0     0     0     1     0     0     0     0     0\n",
      "     3     2     1     1     1     2     1     0     3     3     3     5\n",
      "    13    15    16    20    22    29    54    41    56    79    88    67\n",
      "    85    60    74    61    64    47    61    51    63    50    65    68\n",
      "    57    56    68    63    64    73    50    64    82    88    93    92\n",
      "   109   111   123   125   171   156   172   190   202   210   243   228\n",
      "   270   273   309   327   381   380   400   392   417   450   397   473\n",
      "   485   556   542   592   586   614   624   672   665   728   725   734\n",
      "   714   817   826   852   907   927   959   975   993  1006  1060  1045\n",
      "  1078  1169  1168  1205  1279  1314  1409  1326  1403  1459  1453  1549\n",
      "  1631  1686  1712  1770  1819  1906  1967  2003  2164  2050  2206  2229\n",
      "  2288  2297  2176  2407  2434  2470  2435  2393  2521  2500  2437  2439\n",
      "  2410  2390  2317  2383  2329  2285  2216  2279  2164  2225  2148  2146\n",
      "  2005  1879  1991  1828  1775  1622  1673  1528  1634  1490  1461  1451\n",
      "  1374  1412  1333  1308  1287  1252  1234  1156  1145  1154  1124  1046\n",
      "   959  1035  1082   998  1013   928   917   934   839   843   892   821\n",
      "   857   752   726   682   630   579   579   616   663   532   547   547\n",
      "   573   624   624   601   568   490   556   466   410   424   457   482\n",
      "   470   455   495   623   574   636   596   641   726   760   718   829\n",
      "   923  1043  1013  1152  1473  1673  2537  3623  4212  4208  6664  8341\n",
      " 10074 12172 22110   569]\n"
     ]
    },
    {
     "data": {
      "image/png": "[encoded data removed]",
      "text/plain": [
       "<Figure size 432x288 with 1 Axes>"
      ]
     },
     "metadata": {
      "needs_background": "light"
     },
     "output_type": "display_data"
    }
   ],
   "source": [
    "defaultHistogramFunction(img)"
   ]
  },
  {
   "cell_type": "code",
   "execution_count": 93,
   "metadata": {},
   "outputs": [],
   "source": [
    "a = []\n",
    "for i in range(256):\n",
    "    a.append((i,hist[i]))\n",
    "a_s = sorted(a,key=lambda x: x[1],reverse=True)"
   ]
  },
  {
   "cell_type": "code",
   "execution_count": 94,
   "metadata": {},
   "outputs": [
    {
     "data": {
      "text/plain": [
       "[(254, 22110),\n",
       " (253, 12172),\n",
       " (252, 10074),\n",
       " (251, 8341),\n",
       " (250, 6664),\n",
       " (248, 4212),\n",
       " (249, 4208),\n",
       " (247, 3623),\n",
       " (246, 2537),\n",
       " (152, 2521),\n",
       " (153, 2500),\n",
       " (149, 2470),\n",
       " (155, 2439),\n",
       " (154, 2437),\n",
       " (150, 2435),\n",
       " (148, 2434),\n",
       " (156, 2410),\n",
       " (147, 2407),\n",
       " (151, 2393),\n",
       " (157, 2390),\n",
       " (159, 2383),\n",
       " (160, 2329),\n",
       " (158, 2317),\n",
       " (145, 2297),\n",
       " (144, 2288),\n",
       " (161, 2285),\n",
       " (163, 2279),\n",
       " (143, 2229),\n",
       " (165, 2225),\n",
       " (162, 2216),\n",
       " (142, 2206),\n",
       " (146, 2176),\n",
       " (140, 2164),\n",
       " (164, 2164),\n",
       " (166, 2148),\n",
       " (167, 2146),\n",
       " (141, 2050),\n",
       " (168, 2005),\n",
       " (139, 2003),\n",
       " (170, 1991),\n",
       " (138, 1967),\n",
       " (137, 1906),\n",
       " (169, 1879),\n",
       " (171, 1828),\n",
       " (136, 1819),\n",
       " (172, 1775),\n",
       " (135, 1770),\n",
       " (134, 1712),\n",
       " (133, 1686),\n",
       " (174, 1673),\n",
       " (245, 1673),\n",
       " (176, 1634),\n",
       " (132, 1631),\n",
       " (173, 1622),\n",
       " (131, 1549),\n",
       " (175, 1528),\n",
       " (177, 1490),\n",
       " (244, 1473),\n",
       " (178, 1461),\n",
       " (129, 1459),\n",
       " (130, 1453),\n",
       " (179, 1451),\n",
       " (181, 1412),\n",
       " (126, 1409),\n",
       " (128, 1403),\n",
       " (180, 1374),\n",
       " (182, 1333),\n",
       " (127, 1326),\n",
       " (125, 1314),\n",
       " (183, 1308),\n",
       " (184, 1287),\n",
       " (124, 1279),\n",
       " (185, 1252),\n",
       " (186, 1234),\n",
       " (123, 1205),\n",
       " (121, 1169),\n",
       " (122, 1168),\n",
       " (187, 1156),\n",
       " (189, 1154),\n",
       " (243, 1152),\n",
       " (188, 1145),\n",
       " (190, 1124),\n",
       " (194, 1082),\n",
       " (120, 1078),\n",
       " (118, 1060),\n",
       " (191, 1046),\n",
       " (119, 1045),\n",
       " (241, 1043),\n",
       " (193, 1035),\n",
       " (196, 1013),\n",
       " (242, 1013),\n",
       " (117, 1006),\n",
       " (195, 998),\n",
       " (116, 993),\n",
       " (115, 975),\n",
       " (114, 959),\n",
       " (192, 959),\n",
       " (199, 934),\n",
       " (197, 928),\n",
       " (113, 927),\n",
       " (240, 923),\n",
       " (198, 917),\n",
       " (112, 907),\n",
       " (202, 892),\n",
       " (204, 857),\n",
       " (111, 852),\n",
       " (201, 843),\n",
       " (200, 839),\n",
       " (239, 829),\n",
       " (110, 826),\n",
       " (203, 821),\n",
       " (109, 817),\n",
       " (237, 760),\n",
       " (205, 752),\n",
       " (107, 734),\n",
       " (105, 728),\n",
       " (206, 726),\n",
       " (236, 726),\n",
       " (106, 725),\n",
       " (238, 718),\n",
       " (108, 714),\n",
       " (207, 682),\n",
       " (103, 672),\n",
       " (104, 665),\n",
       " (212, 663),\n",
       " (235, 641),\n",
       " (233, 636),\n",
       " (208, 630),\n",
       " (102, 624),\n",
       " (217, 624),\n",
       " (218, 624),\n",
       " (231, 623),\n",
       " (211, 616),\n",
       " (101, 614),\n",
       " (219, 601),\n",
       " (234, 596),\n",
       " (99, 592),\n",
       " (100, 586),\n",
       " (209, 579),\n",
       " (210, 579),\n",
       " (232, 574),\n",
       " (216, 573),\n",
       " (255, 569),\n",
       " (220, 568),\n",
       " (97, 556),\n",
       " (222, 556),\n",
       " (214, 547),\n",
       " (215, 547),\n",
       " (98, 542),\n",
       " (213, 532),\n",
       " (230, 495),\n",
       " (221, 490),\n",
       " (96, 485),\n",
       " (227, 482),\n",
       " (95, 473),\n",
       " (228, 470),\n",
       " (223, 466),\n",
       " (226, 457),\n",
       " (229, 455),\n",
       " (93, 450),\n",
       " (225, 424),\n",
       " (92, 417),\n",
       " (224, 410),\n",
       " (90, 400),\n",
       " (94, 397),\n",
       " (91, 392),\n",
       " (88, 381),\n",
       " (89, 380),\n",
       " (87, 327),\n",
       " (86, 309),\n",
       " (85, 273),\n",
       " (84, 270),\n",
       " (82, 243),\n",
       " (83, 228),\n",
       " (81, 210),\n",
       " (80, 202),\n",
       " (79, 190),\n",
       " (78, 172),\n",
       " (76, 171),\n",
       " (77, 156),\n",
       " (75, 125),\n",
       " (74, 123),\n",
       " (73, 111),\n",
       " (72, 109),\n",
       " (70, 93),\n",
       " (71, 92),\n",
       " (46, 88),\n",
       " (69, 88),\n",
       " (48, 85),\n",
       " (68, 82),\n",
       " (45, 79),\n",
       " (50, 74),\n",
       " (65, 73),\n",
       " (59, 68),\n",
       " (62, 68),\n",
       " (47, 67),\n",
       " (58, 65),\n",
       " (52, 64),\n",
       " (64, 64),\n",
       " (67, 64),\n",
       " (56, 63),\n",
       " (63, 63),\n",
       " (51, 61),\n",
       " (54, 61),\n",
       " (49, 60),\n",
       " (60, 57),\n",
       " (44, 56),\n",
       " (61, 56),\n",
       " (42, 54),\n",
       " (55, 51),\n",
       " (57, 50),\n",
       " (66, 50),\n",
       " (53, 47),\n",
       " (43, 41),\n",
       " (41, 29),\n",
       " (40, 22),\n",
       " (39, 20),\n",
       " (38, 16),\n",
       " (37, 15),\n",
       " (36, 13),\n",
       " (35, 5),\n",
       " (24, 3),\n",
       " (32, 3),\n",
       " (33, 3),\n",
       " (34, 3),\n",
       " (25, 2),\n",
       " (29, 2),\n",
       " (18, 1),\n",
       " (26, 1),\n",
       " (27, 1),\n",
       " (28, 1),\n",
       " (30, 1),\n",
       " (0, 0),\n",
       " (1, 0),\n",
       " (2, 0),\n",
       " (3, 0),\n",
       " (4, 0),\n",
       " (5, 0),\n",
       " (6, 0),\n",
       " (7, 0),\n",
       " (8, 0),\n",
       " (9, 0),\n",
       " (10, 0),\n",
       " (11, 0),\n",
       " (12, 0),\n",
       " (13, 0),\n",
       " (14, 0),\n",
       " (15, 0),\n",
       " (16, 0),\n",
       " (17, 0),\n",
       " (19, 0),\n",
       " (20, 0),\n",
       " (21, 0),\n",
       " (22, 0),\n",
       " (23, 0),\n",
       " (31, 0)]"
      ]
     },
     "execution_count": 94,
     "metadata": {},
     "output_type": "execute_result"
    }
   ],
   "source": [
    "a_s"
   ]
  },
  {
   "cell_type": "code",
   "execution_count": 95,
   "metadata": {
    "scrolled": true
   },
   "outputs": [
    {
     "name": "stdout",
     "output_type": "stream",
     "text": [
      "[254, 253, 252]\n"
     ]
    },
    {
     "data": {
      "text/plain": [
       "<matplotlib.image.AxesImage at 0x7f1bca330b90>"
      ]
     },
     "execution_count": 95,
     "metadata": {},
     "output_type": "execute_result"
    },
    {
     "data": {
      "image/png": "[encoded data removed]",
      "text/plain": [
       "<Figure size 432x288 with 1 Axes>"
      ]
     },
     "metadata": {
      "needs_background": "light"
     },
     "output_type": "display_data"
    }
   ],
   "source": [
    "d = domIntensity(img,3)\n",
    "r = dis(d)\n",
    "plt.imshow(r,cmap='gray')\n",
    "# print(r[0])"
   ]
  }
 ],
 "metadata": {
  "kernelspec": {
   "display_name": "Python 3",
   "language": "python",
   "name": "python3"
  },
  "language_info": {
   "codemirror_mode": {
    "name": "ipython",
    "version": 3
   },
   "file_extension": ".py",
   "mimetype": "text/x-python",
   "name": "python",
   "nbconvert_exporter": "python",
   "pygments_lexer": "ipython3",
   "version": "3.7.5"
  }
 },
 "nbformat": 4,
 "nbformat_minor": 2
}
