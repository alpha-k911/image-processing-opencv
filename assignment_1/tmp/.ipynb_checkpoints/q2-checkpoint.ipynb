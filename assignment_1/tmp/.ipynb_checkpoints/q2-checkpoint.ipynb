{
 "cells": [
  {
   "cell_type": "code",
   "execution_count": 1,
   "metadata": {},
   "outputs": [],
   "source": [
    "import cv2\n",
    "import numpy as np\n",
    "import math"
   ]
  },
  {
   "cell_type": "code",
   "execution_count": 2,
   "metadata": {},
   "outputs": [],
   "source": [
    "def show(image):\n",
    "    cv2.imshow(\"image\",image)\n",
    "    cv2.waitKey(0)\n",
    "    cv2.destroyAllWindows()"
   ]
  },
  {
   "cell_type": "code",
   "execution_count": 3,
   "metadata": {
    "scrolled": true
   },
   "outputs": [
    {
     "data": {
      "text/plain": [
       "(256, 256)"
      ]
     },
     "execution_count": 3,
     "metadata": {},
     "output_type": "execute_result"
    }
   ],
   "source": [
    "img = cv2.imread(\"../samples/cameraman.tif\",0)\n",
    "img.shape"
   ]
  },
  {
   "cell_type": "code",
   "execution_count": 4,
   "metadata": {
    "scrolled": true
   },
   "outputs": [
    {
     "data": {
      "text/plain": [
       "array([2, 3])"
      ]
     },
     "execution_count": 4,
     "metadata": {},
     "output_type": "execute_result"
    }
   ],
   "source": [
    "a = np.array([[1,1],[0,1]])\n",
    "b = np.array([[1,2],[1,1]])\n",
    "np.dot(a,b)[0]"
   ]
  },
  {
   "cell_type": "code",
   "execution_count": 10,
   "metadata": {},
   "outputs": [
    {
     "name": "stdout",
     "output_type": "stream",
     "text": [
      "256 256\n",
      "65536\n"
     ]
    }
   ],
   "source": [
    "dis = np.zeros((256,256),dtype='uint8')\n",
    "w,h = img.shape\n",
    "print(w,h)\n",
    "c = 0\n",
    "for x in range(w):\n",
    "    for y in range(h):\n",
    "        u,v,p = np.dot(T,np.array([x,y,1]))\n",
    "#         u,v,w = np.dot(T,np.array([x,y,1]))\n",
    "        u = int(u)\n",
    "        v = int(v)\n",
    "#         print(u,v,x,y)\n",
    "        c += 1\n",
    "#         if v < h:\n",
    "#             print(\"hel\")\n",
    "        if 0 < u < w and 0 < v < h:\n",
    "            print(c)\n",
    "            dis[u,v] = img[x,y]\n",
    "print(c)"
   ]
  },
  {
   "cell_type": "code",
   "execution_count": 11,
   "metadata": {},
   "outputs": [],
   "source": [
    "# show([img,dis])\n",
    "# show(dis)\n",
    "cv2.imshow(\"image\",img)\n",
    "cv2.waitKey(0)\n",
    "cv2.imshow(\"image 1\",dis)\n",
    "cv2.waitKey(0)\n",
    "cv2.destroyAllWindows()"
   ]
  },
  {
   "cell_type": "code",
   "execution_count": 12,
   "metadata": {
    "scrolled": true
   },
   "outputs": [
    {
     "data": {
      "text/plain": [
       "array([[2, 3],\n",
       "       [1, 1]])"
      ]
     },
     "execution_count": 12,
     "metadata": {},
     "output_type": "execute_result"
    }
   ],
   "source": [
    "np.dot(a,b)"
   ]
  },
  {
   "cell_type": "code",
   "execution_count": 181,
   "metadata": {},
   "outputs": [],
   "source": [
    "def getShape(T,img):\n",
    "    h,w = img.shape\n",
    "    x_min = 0\n",
    "    x_max = 0\n",
    "    y_min = 0\n",
    "    y_max = 0\n",
    "    for i, row in enumerate(img):\n",
    "        for j, col in enumerate(img):\n",
    "            ori_cor = np.array([i,j,1])\n",
    "            i_new, j_new, _ = T @ ori_cor\n",
    "            x_min = min(j_new,x_min)\n",
    "            x_max = max(j_new,x_max)\n",
    "            y_min = min(i_new,y_min)\n",
    "            y_max = max(i_new,y_max)\n",
    "    print(x_min,x_max,y_min,y_max)\n",
    "    return tuple((math.ceil(y_max-y_min),math.ceil(x_max-x_min),1))"
   ]
  },
  {
   "cell_type": "code",
   "execution_count": 125,
   "metadata": {},
   "outputs": [
    {
     "name": "stdout",
     "output_type": "stream",
     "text": [
      "0 285 0 275\n"
     ]
    },
    {
     "data": {
      "text/plain": [
       "(275, 285, 1)"
      ]
     },
     "execution_count": 125,
     "metadata": {},
     "output_type": "execute_result"
    }
   ],
   "source": [
    "getShape(T,img)"
   ]
  },
  {
   "cell_type": "code",
   "execution_count": 183,
   "metadata": {},
   "outputs": [
    {
     "name": "stdout",
     "output_type": "stream",
     "text": [
      "[[ 1  0 20]\n",
      " [ 0  1 30]\n",
      " [ 0  0  1]]\n",
      "0 0 20 30\n"
     ]
    }
   ],
   "source": [
    "#translating image to right by 30 pixels and down by 20 pixels\n",
    "new_img = np.zeros((276,286,1),dtype=np.uint8)\n",
    "T = np.array([[1,0,20],[0,1,30],[0,0,1]])\n",
    "print(T)\n",
    "mark = False\n",
    "h,w,_ = new_img.shape\n",
    "for i, row in enumerate(img):\n",
    "    for j, col in enumerate(img):\n",
    "        data = img[i,j]\n",
    "        ori_cor = np.array([i,j,1])\n",
    "        i_new, j_new, _ = T @ ori_cor\n",
    "        if not mark:\n",
    "            print(i,j,i_new,j_new)\n",
    "            mark = True\n",
    "        if i_new < h and j_new < w:\n",
    "            new_img[i_new, j_new, :] = data\n",
    "show(new_img)"
   ]
  },
  {
   "cell_type": "code",
   "execution_count": 182,
   "metadata": {},
   "outputs": [
    {
     "name": "stdout",
     "output_type": "stream",
     "text": [
      "[[ 1  0 20]\n",
      " [ 0  1 30]\n",
      " [ 0  0  1]]\n",
      "0 0 127 510\n"
     ]
    }
   ],
   "source": [
    "#from inverse\n",
    "#translating image to right by 30 pixels and down by 20 pixels\n",
    "new_img = np.zeros((256,256,1),dtype=np.uint8)\n",
    "T = np.array([[1,0,20],[0,1,30],[0,0,1]])\n",
    "print(T)\n",
    "T = np.linalg.inv(T)\n",
    "mark = False\n",
    "h,w = img.shape\n",
    "for i, row in enumerate(new_img):\n",
    "    for j, col in enumerate(new_img):\n",
    "#         data = img[i,j]\n",
    "        ori_cor = np.array([i,j,1])\n",
    "        i_old, j_old, _ = T @ ori_cor\n",
    "        if not mark:\n",
    "            print(i,j,i_new,j_new)\n",
    "            mark = True\n",
    "#         i_old, j_old = int(i_old), int(j_old)\n",
    "        if 0 < i_old < h and 0 < j_old < w:\n",
    "            i_old, j_old = int(i_old), int(j_old)\n",
    "            new_img[i, j, :] = img[i_old,j_old]\n",
    "show(new_img)"
   ]
  },
  {
   "cell_type": "code",
   "execution_count": 77,
   "metadata": {},
   "outputs": [],
   "source": [
    "rows, cols = img.shape\n",
    "pts1 = np.float32([[0, 0], [10, 0], [0, 10]])\n",
    "pts2 = np.float32([[30, 20], [40, 20], [30, 30]])\n",
    "matrix = cv2.getAffineTransform(pts1, pts2)\n",
    "result = cv2.warpAffine(img, matrix, (cols, rows))\n",
    "show(result)"
   ]
  },
  {
   "cell_type": "code",
   "execution_count": 196,
   "metadata": {},
   "outputs": [
    {
     "name": "stdout",
     "output_type": "stream",
     "text": [
      "-180.3122292025696 180.31222920256963 0.0 360.6244584051392\n",
      "[[ 0.70710678  0.70710678  0.        ]\n",
      " [-0.70710678  0.70710678  0.        ]\n",
      " [ 0.          0.          1.        ]]\n",
      "0 0 0.0 0.0\n"
     ]
    }
   ],
   "source": [
    "#from left to right\n",
    "#translating image by 45 clockwise\n",
    "new_img = np.zeros((256,256,1),dtype=np.uint8)\n",
    "angle = -math.pi/4\n",
    "T = np.array([\n",
    "    [math.cos(angle),-math.sin(angle),0],\n",
    "    [math.sin(angle),math.cos(angle),0],\n",
    "    [0,0,1]])\n",
    "new_img = np.zeros(getShape(T,img),dtype=np.uint8)\n",
    "print(T)\n",
    "mark = False\n",
    "h,w,_ = new_img.shape\n",
    "for i, row in enumerate(img):\n",
    "    for j, col in enumerate(img):\n",
    "        data = img[i,j]\n",
    "        ori_cor = np.array([i,j,1])\n",
    "        i_new, j_new, _ = T @ ori_cor\n",
    "        if not mark:\n",
    "            print(i,j,i_new,j_new)\n",
    "            mark = True\n",
    "        i_new, j_new = int(i_new), int(j_new)\n",
    "        if i_new < h and j_new < w:\n",
    "            new_img[i_new, j_new, :] = data\n",
    "show(new_img)"
   ]
  },
  {
   "cell_type": "code",
   "execution_count": 200,
   "metadata": {},
   "outputs": [
    {
     "name": "stdout",
     "output_type": "stream",
     "text": [
      "[[ 0.70710678  0.70710678  0.        ]\n",
      " [-0.70710678  0.70710678  0.        ]\n",
      " [ 0.          0.          1.        ]]\n",
      "0 0 360 0\n"
     ]
    }
   ],
   "source": [
    "#from inverse\n",
    "#45\n",
    "new_img = np.zeros((256,256,1),dtype=np.uint8)\n",
    "T = np.array([\n",
    "    [math.cos(angle),-math.sin(angle),0],\n",
    "    [math.sin(angle),math.cos(angle),0],\n",
    "    [0,0,1]])\n",
    "print(T)\n",
    "T = np.linalg.inv(T)\n",
    "mark = False\n",
    "h,w = img.shape\n",
    "for i, row in enumerate(new_img):\n",
    "    for j, col in enumerate(new_img):\n",
    "#         data = img[i,j]\n",
    "        ori_cor = np.array([i,j,1])\n",
    "        i_old, j_old, _ = T @ ori_cor\n",
    "        if not mark:\n",
    "            print(i,j,i_new,j_new)\n",
    "            mark = True\n",
    "#         i_old, j_old = int(i_old), int(j_old)\n",
    "        if 0 < i_old < h and 0 < j_old < w:\n",
    "            i_old, j_old = int(i_old), int(j_old)\n",
    "            new_img[i, j, :] = img[i_old,j_old]\n",
    "show(new_img)"
   ]
  },
  {
   "cell_type": "code",
   "execution_count": 201,
   "metadata": {},
   "outputs": [
    {
     "data": {
      "text/plain": [
       "-0.7853981633974483"
      ]
     },
     "execution_count": 201,
     "metadata": {},
     "output_type": "execute_result"
    }
   ],
   "source": [
    "angle_c = 45\n",
    "image_center = tuple(np.array([0,0]) / 2)\n",
    "rot_mat = cv2.getRotationMatrix2D(image_center, -angle_c, 1.0)\n",
    "result = cv2.warpAffine(img, rot_mat, img.shape[1::-1], flags=cv2.INTER_LINEAR)\n",
    "show(result)\n",
    "angle"
   ]
  },
  {
   "cell_type": "code",
   "execution_count": 202,
   "metadata": {},
   "outputs": [
    {
     "name": "stdout",
     "output_type": "stream",
     "text": [
      "[[0.5 0.  0. ]\n",
      " [0.  2.  0. ]\n",
      " [0.  0.  1. ]]\n",
      "512 128\n",
      "0 0 0.0 0.0\n"
     ]
    }
   ],
   "source": [
    "#translating 2x\n",
    "new_img = np.zeros((128,512,1),dtype=np.uint8)\n",
    "T = np.array([\n",
    "    [0.5,0,0],\n",
    "    [0,2,0],\n",
    "    [0,0,1]])\n",
    "print(T)\n",
    "mark = False\n",
    "h,w,_ = new_img.shape\n",
    "print(w,h)\n",
    "for i, row in enumerate(img):\n",
    "    for j, col in enumerate(img):\n",
    "        data = img[i,j]\n",
    "        ori_cor = np.array([i,j,1])\n",
    "        i_new, j_new, _ = T @ ori_cor\n",
    "        if not mark:\n",
    "            print(i,j,i_new,j_new)\n",
    "            mark = True\n",
    "        i_new, j_new = int(i_new), int(j_new)\n",
    "        if i_new < h and j_new < w:\n",
    "            new_img[i_new, j_new, :] = data\n",
    "show(new_img)"
   ]
  },
  {
   "cell_type": "code",
   "execution_count": 178,
   "metadata": {},
   "outputs": [
    {
     "name": "stdout",
     "output_type": "stream",
     "text": [
      "0.0 127.5 0.0 510.0\n"
     ]
    },
    {
     "data": {
      "text/plain": [
       "(510, 128, 1)"
      ]
     },
     "execution_count": 178,
     "metadata": {},
     "output_type": "execute_result"
    }
   ],
   "source": [
    "getShape(T,img)"
   ]
  },
  {
   "cell_type": "code",
   "execution_count": 232,
   "metadata": {},
   "outputs": [
    {
     "name": "stdout",
     "output_type": "stream",
     "text": [
      "0.0 510.0 0.0 127.5\n",
      "0.0 510.0 0.0 127.5\n",
      "0.0 510.0 0.0 127.5\n",
      "(128, 510, 1)\n",
      "[[0.5 0.  0. ]\n",
      " [0.  2.  0. ]\n",
      " [0.  0.  1. ]]\n"
     ]
    }
   ],
   "source": [
    "#from inverse\n",
    "\n",
    "T = np.array([\n",
    "    [0.5,0,0],\n",
    "    [0,2,0],\n",
    "    [0,0,1]])\n",
    "new_img = np.zeros(getShape(T,img),dtype=np.uint8)\n",
    "print(getShape(T,img))\n",
    "print(T)\n",
    "T = np.linalg.inv(T)\n",
    "mark = False\n",
    "h,w = img.shape\n",
    "h_new, w_new, _ = getShape(T,img)\n",
    "for i in range(h_new):\n",
    "    for j in range(w_new):\n",
    "        ori_cor = np.array([i,j,1])\n",
    "        i_old, j_old, _ = T @ ori_cor\n",
    "#         if not mark:\n",
    "#         print(i,j,i_old,j_old,int(i_old), int(j_old))\n",
    "#             mark = True\n",
    "#         i_old, j_old = int(i_old), int(j_old)\n",
    "        \n",
    "        if 0 < i_old < h and 0 < j_old < w:\n",
    "            i_old, j_old = int(i_old), int(j_old)\n",
    "#             d = img[i_old,j_old]\n",
    "            d = getBil(img,i_old,j_old)\n",
    "            new_img[i, j, :] = d\n",
    "show(new_img)"
   ]
  },
  {
   "cell_type": "code",
   "execution_count": 223,
   "metadata": {},
   "outputs": [
    {
     "ename": "ValueError",
     "evalue": "too many values to unpack (expected 2)",
     "output_type": "error",
     "traceback": [
      "\u001b[0;31m---------------------------------------------------------------------------\u001b[0m",
      "\u001b[0;31mValueError\u001b[0m                                Traceback (most recent call last)",
      "\u001b[0;32m<ipython-input-223-8d53e57faffa>\u001b[0m in \u001b[0;36m<module>\u001b[0;34m()\u001b[0m\n\u001b[0;32m----> 1\u001b[0;31m \u001b[0mi\u001b[0m\u001b[0;34m,\u001b[0m \u001b[0mj\u001b[0m \u001b[0;34m=\u001b[0m \u001b[0menumerate\u001b[0m\u001b[0;34m(\u001b[0m\u001b[0mnew_img\u001b[0m\u001b[0;34m)\u001b[0m\u001b[0;34m\u001b[0m\u001b[0;34m\u001b[0m\u001b[0m\n\u001b[0m",
      "\u001b[0;31mValueError\u001b[0m: too many values to unpack (expected 2)"
     ]
    }
   ],
   "source": []
  },
  {
   "cell_type": "code",
   "execution_count": 19,
   "metadata": {},
   "outputs": [],
   "source": [
    "show(result)"
   ]
  },
  {
   "cell_type": "code",
   "execution_count": null,
   "metadata": {},
   "outputs": [],
   "source": []
  },
  {
   "cell_type": "code",
   "execution_count": null,
   "metadata": {},
   "outputs": [],
   "source": []
  },
  {
   "cell_type": "code",
   "execution_count": null,
   "metadata": {},
   "outputs": [],
   "source": []
  }
 ],
 "metadata": {
  "kernelspec": {
   "display_name": "Python 3",
   "language": "python",
   "name": "python3"
  },
  "language_info": {
   "codemirror_mode": {
    "name": "ipython",
    "version": 3
   },
   "file_extension": ".py",
   "mimetype": "text/x-python",
   "name": "python",
   "nbconvert_exporter": "python",
   "pygments_lexer": "ipython3",
   "version": "3.7.5"
  }
 },
 "nbformat": 4,
 "nbformat_minor": 2
}
