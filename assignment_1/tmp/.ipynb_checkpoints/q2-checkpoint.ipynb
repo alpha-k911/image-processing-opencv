{
 "cells": [
  {
   "cell_type": "code",
   "execution_count": 1,
   "metadata": {},
   "outputs": [],
   "source": [
    "import cv2\n",
    "import numpy as np\n",
    "import math"
   ]
  },
  {
   "cell_type": "code",
   "execution_count": 2,
   "metadata": {},
   "outputs": [],
   "source": [
    "def show(image):\n",
    "    cv2.imshow(\"image\",image)\n",
    "    cv2.waitKey(0)\n",
    "    cv2.destroyAllWindows()"
   ]
  },
  {
   "cell_type": "code",
   "execution_count": 3,
   "metadata": {
    "scrolled": true
   },
   "outputs": [
    {
     "data": {
      "text/plain": [
       "(256, 256)"
      ]
     },
     "execution_count": 3,
     "metadata": {},
     "output_type": "execute_result"
    }
   ],
   "source": [
    "img = cv2.imread(\"../samples/cameraman.tif\",0)\n",
    "img.shape"
   ]
  },
  {
   "cell_type": "code",
   "execution_count": 4,
   "metadata": {
    "scrolled": true
   },
   "outputs": [
    {
     "data": {
      "text/plain": [
       "array([2, 3])"
      ]
     },
     "execution_count": 4,
     "metadata": {},
     "output_type": "execute_result"
    }
   ],
   "source": [
    "a = np.array([[1,1],[0,1]])\n",
    "b = np.array([[1,2],[1,1]])\n",
    "np.dot(a,b)[0]"
   ]
  },
  {
   "cell_type": "code",
   "execution_count": 5,
   "metadata": {},
   "outputs": [],
   "source": [
    "def getShape(T,img):\n",
    "    h,w = img.shape\n",
    "    x_min = 0\n",
    "    x_max = 0\n",
    "    y_min = 0\n",
    "    y_max = 0\n",
    "    for i, row in enumerate(img):\n",
    "        for j, col in enumerate(img):\n",
    "            ori_cor = np.array([i,j,1])\n",
    "            i_new, j_new, _ = T @ ori_cor\n",
    "            x_min = min(j_new,x_min)\n",
    "            x_max = max(j_new,x_max)\n",
    "            y_min = min(i_new,y_min)\n",
    "            y_max = max(i_new,y_max)\n",
    "    print(x_min,x_max,y_min,y_max)\n",
    "    return tuple((math.ceil(y_max-y_min),math.ceil(x_max-x_min),1))"
   ]
  },
  {
   "cell_type": "code",
   "execution_count": 6,
   "metadata": {},
   "outputs": [
    {
     "data": {
      "text/plain": [
       "(256, 256)"
      ]
     },
     "execution_count": 6,
     "metadata": {},
     "output_type": "execute_result"
    }
   ],
   "source": [
    "img.shape[0:2]"
   ]
  },
  {
   "cell_type": "code",
   "execution_count": 37,
   "metadata": {},
   "outputs": [],
   "source": [
    "def getBil(img,i_old,j_old):\n",
    "    l = 0\n",
    "    r = 0\n",
    "    u = 0\n",
    "    d = 0\n",
    "    h,w = img.shape[0:2]\n",
    "    c = 0\n",
    "    if j_old > 0 and j_old < w:\n",
    "        l = img[i_old,j_old-1]\n",
    "        c += 1\n",
    "    if j_old >= 0 and j_old < w:\n",
    "        r = img[i_old,j_old+1]\n",
    "        c += 1\n",
    "    if i_old > 0 and i_old < h:\n",
    "        u = img[i_old-1,j_old]\n",
    "        c += 1\n",
    "    if i_old >= 0 and i_old < h:\n",
    "        d = img[i_old+1,j_old]\n",
    "        c += 1\n",
    "    return ((l+r+u+d)/c).astype('uint8')"
   ]
  },
  {
   "cell_type": "code",
   "execution_count": 8,
   "metadata": {},
   "outputs": [
    {
     "name": "stdout",
     "output_type": "stream",
     "text": [
      "[[ 1  0 20]\n",
      " [ 0  1 30]\n",
      " [ 0  0  1]]\n",
      "0 0 20 30\n"
     ]
    }
   ],
   "source": [
    "#translating image to right by 30 pixels and down by 20 pixels\n",
    "new_img = np.zeros((276,286,1),dtype=np.uint8)\n",
    "T = np.array([[1,0,20],[0,1,30],[0,0,1]])\n",
    "print(T)\n",
    "mark = False\n",
    "h,w,_ = new_img.shape\n",
    "for i, row in enumerate(img):\n",
    "    for j, col in enumerate(img):\n",
    "        data = img[i,j]\n",
    "        ori_cor = np.array([i,j,1])\n",
    "        i_new, j_new, _ = T @ ori_cor\n",
    "        if not mark:\n",
    "            print(i,j,i_new,j_new)\n",
    "            mark = True\n",
    "        if i_new < h and j_new < w:\n",
    "            new_img[i_new, j_new, :] = data\n",
    "show(new_img)"
   ]
  },
  {
   "cell_type": "code",
   "execution_count": 9,
   "metadata": {},
   "outputs": [
    {
     "name": "stdout",
     "output_type": "stream",
     "text": [
      "[[ 1  0 20]\n",
      " [ 0  1 30]\n",
      " [ 0  0  1]]\n",
      "0 0 275 285\n"
     ]
    }
   ],
   "source": [
    "#from inverse\n",
    "#translating image to right by 30 pixels and down by 20 pixels\n",
    "new_img = np.zeros((256,256,1),dtype=np.uint8)\n",
    "T = np.array([[1,0,20],[0,1,30],[0,0,1]])\n",
    "print(T)\n",
    "T = np.linalg.inv(T)\n",
    "mark = False\n",
    "h,w = img.shape\n",
    "for i, row in enumerate(new_img):\n",
    "    for j, col in enumerate(new_img):\n",
    "#         data = img[i,j]\n",
    "        ori_cor = np.array([i,j,1])\n",
    "        i_old, j_old, _ = T @ ori_cor\n",
    "        if not mark:\n",
    "            print(i,j,i_new,j_new)\n",
    "            mark = True\n",
    "#         i_old, j_old = int(i_old), int(j_old)\n",
    "        if 0 < i_old < h and 0 < j_old < w:\n",
    "            i_old, j_old = int(i_old), int(j_old)\n",
    "            new_img[i, j, :] = img[i_old,j_old]\n",
    "show(new_img)"
   ]
  },
  {
   "cell_type": "code",
   "execution_count": 10,
   "metadata": {},
   "outputs": [],
   "source": [
    "rows, cols = img.shape\n",
    "pts1 = np.float32([[0, 0], [10, 0], [0, 10]])\n",
    "pts2 = np.float32([[30, 20], [40, 20], [30, 30]])\n",
    "matrix = cv2.getAffineTransform(pts1, pts2)\n",
    "result = cv2.warpAffine(img, matrix, (cols, rows))\n",
    "show(result)"
   ]
  },
  {
   "cell_type": "code",
   "execution_count": 15,
   "metadata": {},
   "outputs": [
    {
     "name": "stdout",
     "output_type": "stream",
     "text": [
      "-180.3122292025696 180.31222920256963 0.0 360.6244584051392\n",
      "[[ 0.70710678  0.70710678  0.        ]\n",
      " [-0.70710678  0.70710678  0.        ]\n",
      " [ 0.          0.          1.        ]]\n",
      "0 0 0.0 0.0\n"
     ]
    }
   ],
   "source": [
    "#from left to right\n",
    "#translating image by 45 clockwise\n",
    "new_img = np.zeros((256,256,1),dtype=np.uint8)\n",
    "angle = -math.pi/4\n",
    "T = np.array([\n",
    "    [math.cos(angle),-math.sin(angle),0],\n",
    "    [math.sin(angle),math.cos(angle),0],\n",
    "    [0,0,1]])\n",
    "new_img = np.zeros(getShape(T,img),dtype=np.uint8)\n",
    "print(T)\n",
    "mark = False\n",
    "h,w,_ = new_img.shape\n",
    "for i, row in enumerate(img):\n",
    "    for j, col in enumerate(img):\n",
    "        data = img[i,j]\n",
    "        ori_cor = np.array([i,j,1])\n",
    "        i_new, j_new, _ = T @ ori_cor\n",
    "        if not mark:\n",
    "            print(i,j,i_new,j_new)\n",
    "            mark = True\n",
    "        i_new, j_new = int(i_new), int(j_new)\n",
    "        if i_new < h and j_new < w:\n",
    "            new_img[i_new, j_new, :] = data\n",
    "show(new_img)"
   ]
  },
  {
   "cell_type": "code",
   "execution_count": 14,
   "metadata": {},
   "outputs": [
    {
     "name": "stdout",
     "output_type": "stream",
     "text": [
      "[[ 0.70710678  0.70710678  0.        ]\n",
      " [-0.70710678  0.70710678  0.        ]\n",
      " [ 0.          0.          1.        ]]\n",
      "0 0 360 0\n"
     ]
    }
   ],
   "source": [
    "#from inverse\n",
    "#45\n",
    "new_img = np.zeros((256,256,1),dtype=np.uint8)\n",
    "T = np.array([\n",
    "    [math.cos(angle),-math.sin(angle),0],\n",
    "    [math.sin(angle),math.cos(angle),0],\n",
    "    [0,0,1]])\n",
    "print(T)\n",
    "T = np.linalg.inv(T)\n",
    "mark = False\n",
    "h,w = img.shape\n",
    "for i, row in enumerate(new_img):\n",
    "    for j, col in enumerate(new_img):\n",
    "#         data = img[i,j]\n",
    "        ori_cor = np.array([i,j,1])\n",
    "        i_old, j_old, _ = T @ ori_cor\n",
    "        if not mark:\n",
    "            print(i,j,i_new,j_new)\n",
    "            mark = True\n",
    "#         i_old, j_old = int(i_old), int(j_old)\n",
    "        if 0 < i_old < h and 0 < j_old < w:\n",
    "            i_old, j_old = int(i_old), int(j_old)\n",
    "            new_img[i, j, :] = img[i_old,j_old]\n",
    "show(new_img)"
   ]
  },
  {
   "cell_type": "code",
   "execution_count": 16,
   "metadata": {},
   "outputs": [
    {
     "data": {
      "text/plain": [
       "-0.7853981633974483"
      ]
     },
     "execution_count": 16,
     "metadata": {},
     "output_type": "execute_result"
    }
   ],
   "source": [
    "angle_c = 45\n",
    "image_center = tuple(np.array([0,0]) / 2)\n",
    "rot_mat = cv2.getRotationMatrix2D(image_center, -angle_c, 1.0)\n",
    "result = cv2.warpAffine(img, rot_mat, img.shape[1::-1], flags=cv2.INTER_LINEAR)\n",
    "show(result)\n",
    "angle"
   ]
  },
  {
   "cell_type": "code",
   "execution_count": 17,
   "metadata": {},
   "outputs": [
    {
     "name": "stdout",
     "output_type": "stream",
     "text": [
      "[[0.5 0.  0. ]\n",
      " [0.  2.  0. ]\n",
      " [0.  0.  1. ]]\n",
      "512 128\n",
      "0 0 0.0 0.0\n"
     ]
    }
   ],
   "source": [
    "#translating 2x\n",
    "new_img = np.zeros((128,512,1),dtype=np.uint8)\n",
    "T = np.array([\n",
    "    [0.5,0,0],\n",
    "    [0,2,0],\n",
    "    [0,0,1]])\n",
    "print(T)\n",
    "mark = False\n",
    "h,w,_ = new_img.shape\n",
    "print(w,h)\n",
    "for i, row in enumerate(img):\n",
    "    for j, col in enumerate(img):\n",
    "        data = img[i,j]\n",
    "        ori_cor = np.array([i,j,1])\n",
    "        i_new, j_new, _ = T @ ori_cor\n",
    "        if not mark:\n",
    "            print(i,j,i_new,j_new)\n",
    "            mark = True\n",
    "        i_new, j_new = int(i_new), int(j_new)\n",
    "        if i_new < h and j_new < w:\n",
    "            new_img[i_new, j_new, :] = data\n",
    "show(new_img)"
   ]
  },
  {
   "cell_type": "code",
   "execution_count": 18,
   "metadata": {},
   "outputs": [
    {
     "name": "stdout",
     "output_type": "stream",
     "text": [
      "0.0 510.0 0.0 127.5\n"
     ]
    },
    {
     "data": {
      "text/plain": [
       "(128, 510, 1)"
      ]
     },
     "execution_count": 18,
     "metadata": {},
     "output_type": "execute_result"
    }
   ],
   "source": [
    "getShape(T,img)"
   ]
  },
  {
   "cell_type": "code",
   "execution_count": 38,
   "metadata": {},
   "outputs": [
    {
     "name": "stdout",
     "output_type": "stream",
     "text": [
      "0.0 510.0 0.0 127.5\n",
      "0.0 510.0 0.0 127.5\n",
      "[[0.5 0.  0. ]\n",
      " [0.  2.  0. ]\n",
      " [0.  0.  1. ]]\n",
      "128 510\n"
     ]
    },
    {
     "name": "stderr",
     "output_type": "stream",
     "text": [
      "/usr/lib/python3/dist-packages/ipykernel_launcher.py:20: RuntimeWarning: overflow encountered in ubyte_scalars\n"
     ]
    }
   ],
   "source": [
    "#from inverse\n",
    "\n",
    "T = np.array([\n",
    "    [0.5,0,0],\n",
    "    [0,2,0],\n",
    "    [0,0,1]])\n",
    "new_img = np.zeros(getShape(T,img),dtype=np.uint8)\n",
    "h_new, w_new, _ = getShape(T,img)\n",
    "print(T)\n",
    "T = np.linalg.inv(T)\n",
    "mark = False\n",
    "h,w = img.shape\n",
    "print(h_new,w_new)\n",
    "for i in range(h_new):\n",
    "    for j in range(w_new):\n",
    "        ori_cor = np.array([i,j,1])\n",
    "        i_old, j_old, _ = T @ ori_cor\n",
    "#         if not mark:\n",
    "#         print(i,j,i_old,j_old,int(i_old), int(j_old))\n",
    "#             mark = True\n",
    "#         i_old, j_old = int(i_old), int(j_old)\n",
    "        \n",
    "        if 0 < i_old < h and 0 < j_old < w:\n",
    "            i_old, j_old = int(i_old), int(j_old)\n",
    "            d = img[i_old,j_old]\n",
    "            d = getBil(img,i_old,j_old)\n",
    "#             print(d)\n",
    "            new_img[i, j, :] = d\n",
    "show(new_img)"
   ]
  },
  {
   "cell_type": "code",
   "execution_count": null,
   "metadata": {},
   "outputs": [],
   "source": []
  },
  {
   "cell_type": "code",
   "execution_count": null,
   "metadata": {},
   "outputs": [],
   "source": []
  },
  {
   "cell_type": "code",
   "execution_count": null,
   "metadata": {},
   "outputs": [],
   "source": []
  }
 ],
 "metadata": {
  "kernelspec": {
   "display_name": "Python 3",
   "language": "python",
   "name": "python3"
  },
  "language_info": {
   "codemirror_mode": {
    "name": "ipython",
    "version": 3
   },
   "file_extension": ".py",
   "mimetype": "text/x-python",
   "name": "python",
   "nbconvert_exporter": "python",
   "pygments_lexer": "ipython3",
   "version": "3.7.5"
  }
 },
 "nbformat": 4,
 "nbformat_minor": 2
}
