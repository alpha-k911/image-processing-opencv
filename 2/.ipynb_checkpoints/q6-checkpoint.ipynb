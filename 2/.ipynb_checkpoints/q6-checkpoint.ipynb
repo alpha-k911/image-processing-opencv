{
 "cells": [
  {
   "cell_type": "code",
   "execution_count": 1,
   "metadata": {},
   "outputs": [],
   "source": [
    "import cv2\n",
    "import numpy as np\n",
    "from matplotlib import pyplot as plt"
   ]
  },
  {
   "cell_type": "code",
   "execution_count": 2,
   "metadata": {},
   "outputs": [],
   "source": [
    "def show(img):\n",
    "    cv2.imshow(\"image\",img)\n",
    "    cv2.waitKey(0)\n",
    "    cv2.destroyAllWindows()"
   ]
  },
  {
   "cell_type": "code",
   "execution_count": 3,
   "metadata": {},
   "outputs": [],
   "source": [
    "img  = cv2.imread(\"data/semafor.bmp\",0)\n",
    "# template = cv2.imread(\"data/Image2.jpg\",0)\n",
    "template = np.array([[255, 255, 255, 255,255, 255, 255, 255,255, 255, 255],\n",
    "                     [255, 255, 255, 255,255, 255, 255, 255,255, 255, 255],\n",
    "                     [255, 255, 255, 255,255, 255, 255, 255,255, 255, 255],\n",
    "                     [255, 255, 255, 255,255, 255, 255, 255,255, 255, 255],\n",
    "                     [255, 255, 255, 255,255, 255, 255, 255,255, 255, 255],\n",
    "                     [255, 255, 255, 255,255, 255, 255, 255,255, 255, 255],\n",
    "                     [255, 255, 255, 255,255, 255, 255, 255,255, 255, 255],\n",
    "                     [255, 255, 255, 255,255, 255, 255, 255,255, 255, 255],\n",
    "                     [255, 255, 255, 255,255, 255, 255, 255,255, 255, 255],\n",
    "                     [255, 255, 255, 255,255, 255, 255, 255,255, 255, 255],\n",
    "                     [255, 255, 255, 255,255, 255, 255, 255,255, 255, 255]])\n",
    "p = np.array([[255, 255, 255,255,255, 255, 255, 255,255, 255, 255,255,255],\n",
    "              [255, 0,0,0,0,0,0,0,0,0,0,0,255],\n",
    "              [255, 0,0,0,0,0,0,0,0,0,0,0,255],\n",
    "              [255, 0,0,0,0,0,0,0,0,0,0,0,255],\n",
    "              [255, 0,0,0,0,0,0,0,0,0,0,0,255],\n",
    "              [255, 0,0,0,0,0,0,0,0,0,0,0,255],\n",
    "              [255, 0,0,0,0,0,0,0,0,0,0,0,255],\n",
    "              [255, 0,0,0,0,0,0,0,0,0,0,0,255],\n",
    "              [255, 0,0,0,0,0,0,0,0,0,0,0,255],\n",
    "              [255, 0,0,0,0,0,0,0,0,0,0,0,255],\n",
    "              [255, 0,0,0,0,0,0,0,0,0,0,0,255],\n",
    "              [255, 0,0,0,0,0,0,0,0,0,0,0,255],\n",
    "              [255, 255, 255, 255,255, 255, 255, 255,255, 255, 255,255,255]])"
   ]
  },
  {
   "cell_type": "code",
   "execution_count": 4,
   "metadata": {},
   "outputs": [
    {
     "data": {
      "text/plain": [
       "(67,)"
      ]
     },
     "execution_count": 4,
     "metadata": {},
     "output_type": "execute_result"
    }
   ],
   "source": [
    "template[0].shape"
   ]
  },
  {
   "cell_type": "code",
   "execution_count": 6,
   "metadata": {},
   "outputs": [
    {
     "name": "stdout",
     "output_type": "stream",
     "text": [
      "(51, 67)\n",
      "(276, 393)\n"
     ]
    }
   ],
   "source": [
    "print(template.shape)\n",
    "print(img.shape)\n",
    "h_t, w_t = template.shape"
   ]
  },
  {
   "cell_type": "code",
   "execution_count": 7,
   "metadata": {},
   "outputs": [],
   "source": [
    "def center(image):\n",
    "    a,b = image.shape\n",
    "    return a//2, b//2"
   ]
  },
  {
   "cell_type": "code",
   "execution_count": 8,
   "metadata": {},
   "outputs": [],
   "source": [
    "def count_match(image, temp,a,b):\n",
    "    c = 0\n",
    "    for u in range(w_t):\n",
    "        for v in range(h_t):\n",
    "            if temp[v,u] == image[v+b,u+a]:\n",
    "                c += 1\n",
    "    return c"
   ]
  },
  {
   "cell_type": "code",
   "execution_count": 21,
   "metadata": {},
   "outputs": [],
   "source": [
    "def check(i,t):\n",
    "    p,q = center(t)\n",
    "    h,w  = img.shape\n",
    "    h_t, w_t = template.shape\n",
    "    empty = np.zeros((h-h_t+1,w-w_t+1))\n",
    "#     print(h,w)\n",
    "    for i in range(w-w_t+1):\n",
    "        for j in range(h-h_t+1):\n",
    "            c = count_match(img,template,i,j)\n",
    "            empty[j,i] = c\n",
    "#             print(i,j,c)\n",
    "    return empty"
   ]
  },
  {
   "cell_type": "code",
   "execution_count": 22,
   "metadata": {
    "scrolled": true
   },
   "outputs": [],
   "source": [
    "e = check(img,template)"
   ]
  },
  {
   "cell_type": "code",
   "execution_count": 11,
   "metadata": {},
   "outputs": [],
   "source": [
    "e_t = e"
   ]
  },
  {
   "cell_type": "code",
   "execution_count": 12,
   "metadata": {},
   "outputs": [],
   "source": [
    "m = e.max()\n",
    "e *= (255/m)"
   ]
  },
  {
   "cell_type": "code",
   "execution_count": 13,
   "metadata": {},
   "outputs": [],
   "source": [
    "show(e.astype('uint8'))"
   ]
  },
  {
   "cell_type": "code",
   "execution_count": 14,
   "metadata": {
    "scrolled": true
   },
   "outputs": [],
   "source": [
    "e_n = e.astype('uint8')"
   ]
  },
  {
   "cell_type": "code",
   "execution_count": 15,
   "metadata": {},
   "outputs": [
    {
     "data": {
      "text/plain": [
       "array([[173, 178, 184, ..., 193, 189, 186],\n",
       "       [180, 186, 192, ..., 201, 197, 193],\n",
       "       [188, 194, 200, ..., 209, 205, 201],\n",
       "       ...,\n",
       "       [204, 210, 217, ..., 226, 222, 217],\n",
       "       [197, 203, 209, ..., 218, 214, 210],\n",
       "       [189, 195, 201, ..., 210, 206, 202]], dtype=uint8)"
      ]
     },
     "execution_count": 15,
     "metadata": {},
     "output_type": "execute_result"
    }
   ],
   "source": [
    "e_n"
   ]
  },
  {
   "cell_type": "code",
   "execution_count": 16,
   "metadata": {},
   "outputs": [],
   "source": [
    "e_p = e_n.copy()\n",
    "e_p[e_p < 255 ] = 0"
   ]
  },
  {
   "cell_type": "code",
   "execution_count": 17,
   "metadata": {},
   "outputs": [
    {
     "data": {
      "image/png": "[encoded data removed]",
      "text/plain": [
       "<Figure size 432x288 with 1 Axes>"
      ]
     },
     "metadata": {
      "needs_background": "light"
     },
     "output_type": "display_data"
    }
   ],
   "source": [
    "final = np.hstack((e_n,e_p))\n",
    "plt.imshow(final,cmap='gray')\n",
    "show(final)"
   ]
  }
 ],
 "metadata": {
  "kernelspec": {
   "display_name": "Python 3",
   "language": "python",
   "name": "python3"
  },
  "language_info": {
   "codemirror_mode": {
    "name": "ipython",
    "version": 3
   },
   "file_extension": ".py",
   "mimetype": "text/x-python",
   "name": "python",
   "nbconvert_exporter": "python",
   "pygments_lexer": "ipython3",
   "version": "3.7.5"
  }
 },
 "nbformat": 4,
 "nbformat_minor": 2
}
