{
 "cells": [
  {
   "cell_type": "code",
   "execution_count": 1,
   "metadata": {},
   "outputs": [],
   "source": [
    "import cv2\n",
    "import numpy as np\n",
    "from matplotlib import pyplot as plt"
   ]
  },
  {
   "cell_type": "code",
   "execution_count": 2,
   "metadata": {},
   "outputs": [],
   "source": [
    "def show(img):\n",
    "    cv2.imshow(\"image\",img)\n",
    "    cv2.waitKey(0)\n",
    "    cv2.destroyAllWindows()"
   ]
  },
  {
   "cell_type": "code",
   "execution_count": 3,
   "metadata": {},
   "outputs": [],
   "source": [
    "img  = cv2.imread(\"data/semafor.bmp\",0)\n",
    "# template = cv2.imread(\"data/Image2.jpg\",0)\n",
    "template = np.array([[255, 255, 255, 255,255, 255, 255, 255,255, 255, 255],\n",
    "                     [255, 255, 255, 255,255, 255, 255, 255,255, 255, 255],\n",
    "                     [255, 255, 255, 255,255, 255, 255, 255,255, 255, 255],\n",
    "                     [255, 255, 255, 255,255, 255, 255, 255,255, 255, 255],\n",
    "                     [255, 255, 255, 255,255, 255, 255, 255,255, 255, 255],\n",
    "                     [255, 255, 255, 255,255, 255, 255, 255,255, 255, 255],\n",
    "                     [255, 255, 255, 255,255, 255, 255, 255,255, 255, 255],\n",
    "                     [255, 255, 255, 255,255, 255, 255, 255,255, 255, 255],\n",
    "                     [255, 255, 255, 255,255, 255, 255, 255,255, 255, 255],\n",
    "                     [255, 255, 255, 255,255, 255, 255, 255,255, 255, 255],\n",
    "                     [255, 255, 255, 255,255, 255, 255, 255,255, 255, 255]])\n",
    "template_b = np.array([[255, 255, 255,255,255, 255, 255, 255,255, 255, 255,255,255],\n",
    "              [255, 0,0,0,0,0,0,0,0,0,0,0,255],\n",
    "              [255, 0,0,0,0,0,0,0,0,0,0,0,255],\n",
    "              [255, 0,0,0,0,0,0,0,0,0,0,0,255],\n",
    "              [255, 0,0,0,0,0,0,0,0,0,0,0,255],\n",
    "              [255, 0,0,0,0,0,0,0,0,0,0,0,255],\n",
    "              [255, 0,0,0,0,0,0,0,0,0,0,0,255],\n",
    "              [255, 0,0,0,0,0,0,0,0,0,0,0,255],\n",
    "              [255, 0,0,0,0,0,0,0,0,0,0,0,255],\n",
    "              [255, 0,0,0,0,0,0,0,0,0,0,0,255],\n",
    "              [255, 0,0,0,0,0,0,0,0,0,0,0,255],\n",
    "              [255, 0,0,0,0,0,0,0,0,0,0,0,255],\n",
    "              [255, 255, 255, 255,255, 255, 255, 255,255, 255, 255,255,255]])"
   ]
  },
  {
   "cell_type": "code",
   "execution_count": 4,
   "metadata": {},
   "outputs": [
    {
     "data": {
      "text/plain": [
       "(13, 13)"
      ]
     },
     "execution_count": 4,
     "metadata": {},
     "output_type": "execute_result"
    }
   ],
   "source": [
    "template_b.shape"
   ]
  },
  {
   "cell_type": "code",
   "execution_count": 5,
   "metadata": {},
   "outputs": [
    {
     "data": {
      "text/plain": [
       "(11,)"
      ]
     },
     "execution_count": 5,
     "metadata": {},
     "output_type": "execute_result"
    }
   ],
   "source": [
    "template[0].shape"
   ]
  },
  {
   "cell_type": "code",
   "execution_count": 6,
   "metadata": {},
   "outputs": [
    {
     "name": "stdout",
     "output_type": "stream",
     "text": [
      "(11, 11)\n",
      "(253, 167)\n"
     ]
    }
   ],
   "source": [
    "print(template.shape)\n",
    "print(img.shape)\n",
    "h_t, w_t = template.shape"
   ]
  },
  {
   "cell_type": "code",
   "execution_count": 7,
   "metadata": {},
   "outputs": [],
   "source": [
    "def fit(image, temp,a,b):\n",
    "#     c = 0\n",
    "    h_t, w_t = temp.shape\n",
    "    \n",
    "    for u in range(0,w_t):\n",
    "        for v in range(0,h_t):\n",
    "            if temp[v,u] != image[b-h_t//2+v,a-w_t//2+u]:\n",
    "                return 0\n",
    "    return 255"
   ]
  },
  {
   "cell_type": "code",
   "execution_count": 8,
   "metadata": {},
   "outputs": [],
   "source": [
    "def match(img,t):\n",
    "    h,w  = img.shape\n",
    "    h_t, w_t = t.shape\n",
    "    empty = np.zeros((h,w))\n",
    "    for i in range(w_t//2,w-w_t//2):\n",
    "        for j in range(h_t//2,h-h_t//2):\n",
    "            c = fit(img,t,i,j)\n",
    "            empty[j,i] = c\n",
    "    return empty"
   ]
  },
  {
   "cell_type": "code",
   "execution_count": 11,
   "metadata": {
    "scrolled": true
   },
   "outputs": [
    {
     "data": {
      "image/png": "[encoded data removed]",
      "text/plain": [
       "<Figure size 432x288 with 1 Axes>"
      ]
     },
     "metadata": {
      "needs_background": "light"
     },
     "output_type": "display_data"
    }
   ],
   "source": [
    "e = match(img,template)\n",
    "plt.imshow(e,cmap='gray')\n",
    "show(e)"
   ]
  },
  {
   "cell_type": "code",
   "execution_count": 12,
   "metadata": {
    "scrolled": false
   },
   "outputs": [
    {
     "data": {
      "text/plain": [
       "<matplotlib.image.AxesImage at 0x7f74139de190>"
      ]
     },
     "execution_count": 12,
     "metadata": {},
     "output_type": "execute_result"
    },
    {
     "data": {
      "image/png": "[encoded data removed]",
      "text/plain": [
       "<Figure size 432x288 with 1 Axes>"
      ]
     },
     "metadata": {
      "needs_background": "light"
     },
     "output_type": "display_data"
    }
   ],
   "source": [
    "img_inv = cv2.bitwise_not(img)\n",
    "plt.imshow(img_inv,cmap='gray')"
   ]
  },
  {
   "cell_type": "code",
   "execution_count": 14,
   "metadata": {
    "scrolled": true
   },
   "outputs": [
    {
     "data": {
      "image/png": "[encoded data removed]",
      "text/plain": [
       "<Figure size 432x288 with 1 Axes>"
      ]
     },
     "metadata": {
      "needs_background": "light"
     },
     "output_type": "display_data"
    }
   ],
   "source": [
    "e_inv = match(img_inv,template_b)\n",
    "plt.imshow(e_inv,cmap='gray')\n",
    "show(e_inv)"
   ]
  },
  {
   "cell_type": "code",
   "execution_count": 17,
   "metadata": {},
   "outputs": [],
   "source": [
    "show(match(e,e_inv[:150]))"
   ]
  }
 ],
 "metadata": {
  "kernelspec": {
   "display_name": "Python 3",
   "language": "python",
   "name": "python3"
  },
  "language_info": {
   "codemirror_mode": {
    "name": "ipython",
    "version": 3
   },
   "file_extension": ".py",
   "mimetype": "text/x-python",
   "name": "python",
   "nbconvert_exporter": "python",
   "pygments_lexer": "ipython3",
   "version": "3.7.5"
  }
 },
 "nbformat": 4,
 "nbformat_minor": 2
}
