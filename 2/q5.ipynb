{
 "cells": [
  {
   "cell_type": "code",
   "execution_count": 1,
   "metadata": {},
   "outputs": [],
   "source": [
    "import numpy as np \n",
    "import cv2\n",
    "import math\n",
    "from matplotlib import pyplot as plt\n",
    "\n",
    "def show(img1):\n",
    "    cv2.imshow('img',img1)\n",
    "    cv2.waitKey(0)\n",
    "    cv2.destroyAllWindows()"
   ]
  },
  {
   "cell_type": "code",
   "execution_count": 2,
   "metadata": {},
   "outputs": [],
   "source": [
    "def hit(image, temp,a,b):\n",
    "    c = 0\n",
    "    h_t, w_t = temp.shape\n",
    "    \n",
    "    for u in range(0,w_t):\n",
    "        for v in range(0,h_t):\n",
    "            if temp[v,u] == 255 and temp[v,u] == image[b-h_t//2+v,a-w_t//2+u]:\n",
    "                return 255\n",
    "    return 0\n",
    "def fit(image, temp,a,b):\n",
    "#     c = 0\n",
    "    h_t, w_t = temp.shape\n",
    "    \n",
    "    for u in range(0,w_t):\n",
    "        for v in range(0,h_t):\n",
    "            if temp[v,u] == 255 and temp[v,u] != image[b-h_t//2+v,a-w_t//2+u]:\n",
    "                return 0\n",
    "    return 255\n",
    "def dilation(i,t):\n",
    "    h,w  = img.shape\n",
    "    h_t, w_t = t.shape\n",
    "    empty = np.zeros((h,w))\n",
    "    for i in range(w_t//2,w-w_t//2):\n",
    "        for j in range(h_t//2,h-h_t//2):\n",
    "            c = hit(img,t,i,j)\n",
    "            empty[j,i] = c\n",
    "    return empty\n",
    "def erosion(i,t):\n",
    "    h,w  = img.shape\n",
    "    h_t, w_t = t.shape\n",
    "    empty = np.zeros((h,w))\n",
    "    for i in range(1,w-w_t//2):\n",
    "        for j in range(1,h-h_t//2):\n",
    "            c = fit(img,t,i,j)\n",
    "            empty[j,i] = c\n",
    "    return empty"
   ]
  },
  {
   "cell_type": "code",
   "execution_count": 3,
   "metadata": {},
   "outputs": [],
   "source": [
    "ele = np.array(([0,1,0],[1,1,1],[0,1,0]))\n",
    "ele*=255"
   ]
  },
  {
   "cell_type": "code",
   "execution_count": 11,
   "metadata": {},
   "outputs": [],
   "source": [
    "img = cv2.imread('data/body1.bmp',0)"
   ]
  },
  {
   "cell_type": "code",
   "execution_count": 12,
   "metadata": {},
   "outputs": [],
   "source": [
    "def opening(imgx,temp):\n",
    "    return dilation(erosion(imgx,temp),temp)\n",
    "def closing(imgx,temp):\n",
    "    return erosion(dilation(imgx,temp),temp)"
   ]
  },
  {
   "cell_type": "code",
   "execution_count": 14,
   "metadata": {
    "scrolled": false
   },
   "outputs": [
    {
     "data": {
      "image/png": "[encoded data removed]",
      "text/plain": [
       "<Figure size 432x288 with 1 Axes>"
      ]
     },
     "metadata": {
      "needs_background": "light"
     },
     "output_type": "display_data"
    },
    {
     "data": {
      "image/png": "[encoded data removed]",
      "text/plain": [
       "<Figure size 432x288 with 1 Axes>"
      ]
     },
     "metadata": {
      "needs_background": "light"
     },
     "output_type": "display_data"
    }
   ],
   "source": [
    "plt.imshow(erosion(img,ele), cmap='gray')\n",
    "plt.show()\n",
    "plt.imshow(dilation(img,ele), cmap='gray')\n",
    "plt.show()"
   ]
  },
  {
   "cell_type": "code",
   "execution_count": 16,
   "metadata": {},
   "outputs": [
    {
     "data": {
      "image/png": "[encoded data removed]",
      "text/plain": [
       "<Figure size 432x288 with 1 Axes>"
      ]
     },
     "metadata": {
      "needs_background": "light"
     },
     "output_type": "display_data"
    },
    {
     "data": {
      "image/png": "[encoded data removed]",
      "text/plain": [
       "<Figure size 432x288 with 1 Axes>"
      ]
     },
     "metadata": {
      "needs_background": "light"
     },
     "output_type": "display_data"
    }
   ],
   "source": [
    "plt.imshow(opening(img,ele), cmap='gray')\n",
    "plt.show()\n",
    "plt.imshow(closing(img,ele), cmap='gray')\n",
    "plt.show()"
   ]
  }
 ],
 "metadata": {
  "kernelspec": {
   "display_name": "Python 3",
   "language": "python",
   "name": "python3"
  },
  "language_info": {
   "codemirror_mode": {
    "name": "ipython",
    "version": 3
   },
   "file_extension": ".py",
   "mimetype": "text/x-python",
   "name": "python",
   "nbconvert_exporter": "python",
   "pygments_lexer": "ipython3",
   "version": "3.7.5"
  }
 },
 "nbformat": 4,
 "nbformat_minor": 4
}
