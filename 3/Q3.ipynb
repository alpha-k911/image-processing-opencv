{
 "cells": [
  {
   "cell_type": "code",
   "execution_count": 1,
   "metadata": {},
   "outputs": [],
   "source": [
    "import cv2\n",
    "import numpy as np \n",
    "from matplotlib import pyplot as plt\n",
    "import math\n",
    "from math import *\n",
    "import random"
   ]
  },
  {
   "cell_type": "code",
   "execution_count": 2,
   "metadata": {},
   "outputs": [],
   "source": [
    "def show(img):\n",
    "    plt.imshow(img)\n",
    "    plt.show()\n",
    "def showg(img):\n",
    "    plt.imshow(img,cmap='gray')\n",
    "    plt.show()\n",
    "def imshow(img):\n",
    "    cv2.imshow('ImageWindow',img)\n",
    "    cv2.waitKey(0)\n",
    "    cv2.destroyAllWindows()"
   ]
  },
  {
   "cell_type": "code",
   "execution_count": 3,
   "metadata": {},
   "outputs": [],
   "source": [
    "img = cv2.imread(\"data/check.bmp\")\n",
    "simA = cv2.imread(\"data/simA.jpg\")\n",
    "simB = cv2.imread(\"data/simB.jpg\")\n",
    "transA = cv2.imread(\"data/transA.jpg\")\n",
    "transB = cv2.imread(\"data/transB.jpg\")"
   ]
  },
  {
   "cell_type": "code",
   "execution_count": 4,
   "metadata": {},
   "outputs": [],
   "source": [
    "bsimA = cv2.GaussianBlur(simA,(3,3),0)\n",
    "btransA = cv2.GaussianBlur(transA,(3,3),0)"
   ]
  },
  {
   "cell_type": "code",
   "execution_count": 5,
   "metadata": {},
   "outputs": [],
   "source": [
    "def derivatives(img):\n",
    "    scale = 1\n",
    "    delta = 0\n",
    "    ddepth = cv2.CV_16S\n",
    "    gray = cv2.cvtColor(img, cv2.COLOR_BGR2GRAY)\n",
    "    grad_x = cv2.Sobel(gray, ddepth, 1, 0, ksize=3, scale=scale, delta=delta, borderType=cv2.BORDER_DEFAULT)\n",
    "    grad_y = cv2.Sobel(gray, ddepth, 0, 1, ksize=3, scale=scale, delta=delta, borderType=cv2.BORDER_DEFAULT)\n",
    "    return grad_x,grad_y"
   ]
  },
  {
   "cell_type": "code",
   "execution_count": 6,
   "metadata": {},
   "outputs": [],
   "source": [
    "def harris(img,x,y):\n",
    "    img = cv2.cvtColor(img, cv2.COLOR_BGR2GRAY)\n",
    "    Ixx = x * x\n",
    "    Iyy = y * y\n",
    "    Ixy = x * y\n",
    "    Ixx = np.asarray(Ixx)\n",
    "    Iyy = np.asarray(Iyy)\n",
    "    Ixy = np.asarray(Ixy)\n",
    "    w = 3\n",
    "    off = int(w/2)\n",
    "    h,w = img.shape\n",
    "    Sxx = np.zeros(shape=(h,w))\n",
    "    Syy = np.zeros(shape=(h,w))\n",
    "    Sxy = np.zeros(shape=(h,w))\n",
    "    for i in range (off,h-off):\n",
    "        for j in range(off,w-off):\n",
    "            Sxx[i,j] = np.sum(Ixx[i-off:i+1+off, j-off:j+1+off])\n",
    "            Syy[i,j] = np.sum(Iyy[i-off:i+1+off, j-off:j+1+off])\n",
    "            Sxy[i,j] = np.sum(Ixy[i-off:i+1+off, j-off:j+1+off])\n",
    "    det = (Sxx*Syy) - (Sxy**2)\n",
    "    trace = Sxx+Syy\n",
    "    k = 0.04\n",
    "    R = det - k*(trace**2)\n",
    "    return R"
   ]
  },
  {
   "cell_type": "code",
   "execution_count": 7,
   "metadata": {},
   "outputs": [],
   "source": [
    "def hit(image, temp,a,b):\n",
    "    c = 0\n",
    "    h_t, w_t = temp.shape\n",
    "    for u in range(0,w_t):\n",
    "        for v in range(0,h_t):\n",
    "            if image[b-h_t//2+v,a-w_t//2+u]>c:\n",
    "                c=image[b-h_t//2+v,a-w_t//2+u]\n",
    "    return c\n",
    "def dilation(img,t):\n",
    "    h,w  = img.shape\n",
    "    h_t, w_t = t.shape\n",
    "    empty = np.zeros((h,w))\n",
    "    for i in range(w_t//2,w-w_t//2):\n",
    "        for j in range(h_t//2,h-h_t//2):\n",
    "            c = hit(img,t,i,j)\n",
    "            empty[j,i] = c\n",
    "    return empty  "
   ]
  },
  {
   "cell_type": "code",
   "execution_count": 8,
   "metadata": {},
   "outputs": [],
   "source": [
    "def threshNMS(img,R):\n",
    "    Rf = R.flatten()\n",
    "    mx = Rf.max()\n",
    "    mx =  0.2*mx\n",
    "    h,w = R.shape\n",
    "    R1 = np.zeros(shape=(h,w))\n",
    "#     img = cv2.imread(\"simA.jpg\")\n",
    "    h,w = R.shape\n",
    "    for i in range(h):\n",
    "        for j in range(w):\n",
    "            if(R[i][j]>mx):\n",
    "                R1[i][j] = R[i][j]\n",
    "    t = np.ones(shape=(5,5))\n",
    "    dR1 = dilation(R1,t)\n",
    "    h,w = R1.shape\n",
    "    NMS = np.zeros((h,w))\n",
    "    count = 0\n",
    "    for i in range(h):\n",
    "        for j in range(w):\n",
    "            if dR1[i][j]==R1[i][j] and dR1[i][j]!=0:\n",
    "                NMS[i][j]=1\n",
    "#                 img[i][j] = [255,0,0]\n",
    "                count+=1\n",
    "#                 print(i,j)\n",
    "#     showg(img)\n",
    "#     print(count)\n",
    "    return NMS,count"
   ]
  },
  {
   "cell_type": "code",
   "execution_count": 9,
   "metadata": {},
   "outputs": [],
   "source": [
    "def keypoints(NMS,x,y):\n",
    "    kps = []\n",
    "    tans = cv2.phase(np.array(x, np.float32), np.array(y, dtype=np.float32), angleInDegrees=True)\n",
    "    count = 0\n",
    "    h,w = NMS.shape\n",
    "    for i in range(h):\n",
    "        for j in range(w):\n",
    "            if NMS[i][j]>0:\n",
    "                count+=1\n",
    "                point = cv2.KeyPoint(x=j,y=i, _size = 3, _angle = tans[i][j], _octave=0)\n",
    "                kps.append(point)\n",
    "#     print(count)\n",
    "    return kps\n",
    "                "
   ]
  },
  {
   "cell_type": "code",
   "execution_count": 15,
   "metadata": {},
   "outputs": [],
   "source": [
    "def sift1(img):\n",
    "    x,y = derivatives(img)\n",
    "    R = harris(img,x,y)\n",
    "    C, num = threshNMS(img, R)\n",
    "#     print(num)\n",
    "    points = keypoints(C,x,y)\n",
    "    des_img = np.zeros((img.shape[0],img.shape[1],3), dtype=np.uint8)\n",
    "    cv2.drawKeypoints(img,points, des_img)\n",
    "    imshow(des_img)\n",
    "    sift = cv2.xfeatures2d.SIFT_create()\n",
    "    points,descs = sift.compute(img,points)\n",
    "    return points,descs"
   ]
  },
  {
   "cell_type": "code",
   "execution_count": 16,
   "metadata": {},
   "outputs": [],
   "source": [
    "def match(img1,img2):\n",
    "    sift = cv2.xfeatures2d.SIFT_create()\n",
    "    pointsA, descA = sift1(img1)\n",
    "    pointsB, descB = sift1(img2)\n",
    "    bfm = cv2.BFMatcher()\n",
    "    matches = bfm.match(descA, descB)\n",
    "    matches = sorted(matches, key = lambda x:x.distance)\n",
    "    img3 = cv2.drawMatches(img1,pointsA,img2,pointsB,matches[:10], None,flags=2)\n",
    "    return img3,matches[:10],pointsA,pointsB"
   ]
  },
  {
   "cell_type": "code",
   "execution_count": 17,
   "metadata": {
    "scrolled": true
   },
   "outputs": [],
   "source": [
    "a = sift1(transA)"
   ]
  },
  {
   "cell_type": "code",
   "execution_count": null,
   "metadata": {},
   "outputs": [],
   "source": []
  },
  {
   "cell_type": "code",
   "execution_count": null,
   "metadata": {},
   "outputs": [],
   "source": []
  },
  {
   "cell_type": "code",
   "execution_count": null,
   "metadata": {},
   "outputs": [],
   "source": []
  },
  {
   "cell_type": "code",
   "execution_count": null,
   "metadata": {},
   "outputs": [],
   "source": []
  },
  {
   "cell_type": "code",
   "execution_count": null,
   "metadata": {},
   "outputs": [],
   "source": []
  },
  {
   "cell_type": "code",
   "execution_count": null,
   "metadata": {},
   "outputs": [],
   "source": []
  },
  {
   "cell_type": "code",
   "execution_count": 296,
   "metadata": {
    "scrolled": true
   },
   "outputs": [],
   "source": [
    "image,matches,kp1,kp2 = match(transA,transB)"
   ]
  },
  {
   "cell_type": "code",
   "execution_count": 297,
   "metadata": {},
   "outputs": [],
   "source": [
    "imshow(image)"
   ]
  },
  {
   "cell_type": "code",
   "execution_count": 299,
   "metadata": {},
   "outputs": [],
   "source": [
    "list_kp1 = []\n",
    "list_kp2 = []\n",
    "\n",
    "for mat in matches:\n",
    "\n",
    "    # Get the matching keypoints for each of the images\n",
    "    img1_idx = mat.queryIdx\n",
    "    img2_idx = mat.trainIdx\n",
    "\n",
    "    # x - columns\n",
    "    # y - rows\n",
    "    # Get the coordinates\n",
    "    (x1, y1) = kp1[img1_idx].pt\n",
    "    (x2, y2) = kp2[img2_idx].pt\n",
    "\n",
    "    # Append to each list\n",
    "    list_kp1.append((x1, y1))\n",
    "    list_kp2.append((x2, y2))"
   ]
  },
  {
   "cell_type": "code",
   "execution_count": 302,
   "metadata": {},
   "outputs": [
    {
     "data": {
      "text/plain": [
       "10"
      ]
     },
     "execution_count": 302,
     "metadata": {},
     "output_type": "execute_result"
    }
   ],
   "source": [
    "l = len(list_kp1)\n",
    "l"
   ]
  },
  {
   "cell_type": "code",
   "execution_count": 303,
   "metadata": {
    "scrolled": true
   },
   "outputs": [
    {
     "name": "stdout",
     "output_type": "stream",
     "text": [
      "(608.0, 212.0) (443.0, 135.0)\n",
      "(552.0, 393.0) (393.0, 297.0)\n",
      "(552.0, 393.0) (393.0, 297.0)\n",
      "(287.0, 470.0) (154.0, 364.0)\n",
      "(185.0, 260.0) (37.0, 176.0)\n"
     ]
    },
    {
     "data": {
      "text/plain": [
       "8"
      ]
     },
     "execution_count": 303,
     "metadata": {},
     "output_type": "execute_result"
    }
   ],
   "source": [
    "csmx = 0\n",
    "diff = [0,0]\n",
    "idx = -1\n",
    "for i in range(5):\n",
    "    j = random.randrange(0,10,1)\n",
    "    d = [0,0]\n",
    "    cs = 0\n",
    "    print(list_kp1[j],list_kp2[j])\n",
    "    d[0] = list_kp2[j][0]-list_kp1[j][0]\n",
    "    d[1] = list_kp2[j][1]-list_kp1[j][1]\n",
    "    for k in range(l):\n",
    "        d1 = list_kp2[k][0]-list_kp1[k][0]\n",
    "        d2 = list_kp2[k][1]-list_kp1[k][1]\n",
    "        if abs(d1-d[0])<20 and abs(d2-d[1]<20):\n",
    "            cs+=1\n",
    "    if(cs>csmx):\n",
    "        csmx = cs\n",
    "        diff = d\n",
    "        idx = j\n",
    "csmx"
   ]
  },
  {
   "cell_type": "code",
   "execution_count": 304,
   "metadata": {},
   "outputs": [
    {
     "data": {
      "text/plain": [
       "8"
      ]
     },
     "execution_count": 304,
     "metadata": {},
     "output_type": "execute_result"
    }
   ],
   "source": [
    "T = np.float32([[1, 0, diff[0]], [0, 1, diff[1]]]) \n",
    "h,w = transA.shape[:2]\n",
    "ttransA = cv2.warpAffine(transA, T, (w, h))\n",
    "imshow(ttransA)\n",
    "csmx"
   ]
  },
  {
   "cell_type": "code",
   "execution_count": 307,
   "metadata": {},
   "outputs": [
    {
     "data": {
      "text/plain": [
       "array([[   1.,    0., -148.],\n",
       "       [   0.,    1.,  -84.]], dtype=float32)"
      ]
     },
     "execution_count": 307,
     "metadata": {},
     "output_type": "execute_result"
    }
   ],
   "source": [
    "T"
   ]
  },
  {
   "cell_type": "code",
   "execution_count": 305,
   "metadata": {},
   "outputs": [],
   "source": [
    "image,matches,kp1,kp2 = match(ttransA,transB)"
   ]
  },
  {
   "cell_type": "code",
   "execution_count": 306,
   "metadata": {},
   "outputs": [],
   "source": [
    "imshow(image)"
   ]
  }
 ],
 "metadata": {
  "kernelspec": {
   "display_name": "opencv-env-3.4.2.16",
   "language": "python",
   "name": "opencv-env-3.4.2.16"
  },
  "language_info": {
   "codemirror_mode": {
    "name": "ipython",
    "version": 3
   },
   "file_extension": ".py",
   "mimetype": "text/x-python",
   "name": "python",
   "nbconvert_exporter": "python",
   "pygments_lexer": "ipython3",
   "version": "3.6.3"
  }
 },
 "nbformat": 4,
 "nbformat_minor": 4
}
