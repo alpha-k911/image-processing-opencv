{
 "cells": [
  {
   "cell_type": "code",
   "execution_count": 2,
   "metadata": {},
   "outputs": [],
   "source": [
    "import cv2\n",
    "import numpy as np\n",
    "import math\n",
    "from matplotlib import pyplot as plt"
   ]
  },
  {
   "cell_type": "code",
   "execution_count": 3,
   "metadata": {},
   "outputs": [],
   "source": [
    "def show(image):\n",
    "    cv2.imshow(\"image\",image)\n",
    "    cv2.waitKey(0)\n",
    "    cv2.destroyAllWindows()"
   ]
  },
  {
   "cell_type": "code",
   "execution_count": 22,
   "metadata": {},
   "outputs": [],
   "source": [
    "def generateHistogram(image):\n",
    "    data = {}\n",
    "    for i in range(256):\n",
    "        data[i] = 0\n",
    "    h,w,_ = image.shape\n",
    "    for i in range(w):\n",
    "        for j in range(h):\n",
    "            data[image[j][i][0]] += 1\n",
    "#     print(data)\n",
    "    x_range = np.arange(0,256,1)\n",
    "    plt.bar(x_range,data.values())\n",
    "    return data"
   ]
  },
  {
   "cell_type": "code",
   "execution_count": 10,
   "metadata": {},
   "outputs": [
    {
     "data": {
      "text/plain": [
       "(425, 640, 3)"
      ]
     },
     "execution_count": 10,
     "metadata": {},
     "output_type": "execute_result"
    }
   ],
   "source": [
    "img1 = cv2.imread('../images_1/histogram1.jpg')\n",
    "img2 = cv2.imread('../images_1/histogram2.jpg')\n",
    "img3 = cv2.imread('../images_1/histogram3.jpg')\n",
    "img1.shape"
   ]
  },
  {
   "cell_type": "code",
   "execution_count": 17,
   "metadata": {},
   "outputs": [
    {
     "data": {
      "text/plain": [
       "dict_values([0, 0, 0, 0, 0, 0, 0, 0, 0, 0, 0, 0, 0, 0, 0, 0, 0, 0, 1, 0, 0, 0, 0, 0, 3, 2, 1, 1, 1, 2, 1, 0, 3, 3, 3, 5, 13, 15, 16, 20, 22, 29, 54, 41, 56, 79, 88, 67, 85, 60, 74, 61, 64, 47, 61, 51, 63, 50, 65, 68, 57, 56, 68, 63, 64, 73, 50, 64, 82, 88, 93, 92, 109, 111, 123, 125, 171, 156, 172, 190, 202, 210, 243, 228, 270, 273, 309, 327, 381, 380, 400, 392, 417, 450, 397, 473, 485, 556, 542, 592, 586, 614, 624, 672, 665, 728, 725, 734, 714, 817, 826, 852, 907, 927, 959, 975, 993, 1006, 1060, 1045, 1078, 1169, 1168, 1205, 1279, 1314, 1409, 1326, 1403, 1459, 1453, 1549, 1631, 1686, 1712, 1770, 1819, 1906, 1967, 2003, 2164, 2050, 2206, 2229, 2288, 2297, 2176, 2407, 2434, 2470, 2435, 2393, 2521, 2500, 2437, 2439, 2410, 2390, 2317, 2383, 2329, 2285, 2216, 2279, 2164, 2225, 2148, 2146, 2005, 1879, 1991, 1828, 1775, 1622, 1673, 1528, 1634, 1490, 1461, 1451, 1374, 1412, 1333, 1308, 1287, 1252, 1234, 1156, 1145, 1154, 1124, 1046, 959, 1035, 1082, 998, 1013, 928, 917, 934, 839, 843, 892, 821, 857, 752, 726, 682, 630, 579, 579, 616, 663, 532, 547, 547, 573, 624, 624, 601, 568, 490, 556, 466, 410, 424, 457, 482, 470, 455, 495, 623, 574, 636, 596, 641, 726, 760, 718, 829, 923, 1043, 1013, 1152, 1473, 1673, 2537, 3623, 4212, 4208, 6664, 8341, 10074, 12172, 22110, 569])"
      ]
     },
     "execution_count": 17,
     "metadata": {},
     "output_type": "execute_result"
    }
   ],
   "source": [
    "hist_data.values()"
   ]
  },
  {
   "cell_type": "code",
   "execution_count": 38,
   "metadata": {
    "scrolled": true
   },
   "outputs": [
    {
     "data": {
      "image/png": "[encoded data removed]",
      "text/plain": [
       "<Figure size 432x288 with 1 Axes>"
      ]
     },
     "metadata": {
      "needs_background": "light"
     },
     "output_type": "display_data"
    }
   ],
   "source": [
    "hist_data = generateHistogram(img1)"
   ]
  },
  {
   "cell_type": "code",
   "execution_count": 40,
   "metadata": {
    "scrolled": true
   },
   "outputs": [
    {
     "data": {
      "image/png": "[encoded data removed]",
      "text/plain": [
       "<Figure size 432x288 with 1 Axes>"
      ]
     },
     "metadata": {
      "needs_background": "light"
     },
     "output_type": "display_data"
    }
   ],
   "source": [
    "hist_data2 = generateHistogram(img2)"
   ]
  },
  {
   "cell_type": "code",
   "execution_count": 42,
   "metadata": {
    "scrolled": true
   },
   "outputs": [
    {
     "data": {
      "image/png": "[encoded data removed]",
      "text/plain": [
       "<Figure size 432x288 with 1 Axes>"
      ]
     },
     "metadata": {
      "needs_background": "light"
     },
     "output_type": "display_data"
    }
   ],
   "source": [
    "hist_data3 = generateHistogram(img3)"
   ]
  },
  {
   "cell_type": "code",
   "execution_count": 36,
   "metadata": {},
   "outputs": [
    {
     "data": {
      "text/plain": [
       "(2552, 2384, 3)"
      ]
     },
     "execution_count": 36,
     "metadata": {},
     "output_type": "execute_result"
    }
   ],
   "source": [
    "img3.shape"
   ]
  },
  {
   "cell_type": "code",
   "execution_count": 26,
   "metadata": {},
   "outputs": [
    {
     "data": {
      "text/plain": [
       "array([[1., 1., 1., ..., 1., 1., 1.],\n",
       "       [1., 1., 1., ..., 1., 1., 1.],\n",
       "       [1., 1., 1., ..., 1., 1., 1.],\n",
       "       ...,\n",
       "       [1., 1., 1., ..., 1., 1., 1.],\n",
       "       [1., 1., 1., ..., 1., 1., 1.],\n",
       "       [1., 1., 1., ..., 1., 1., 1.]])"
      ]
     },
     "execution_count": 26,
     "metadata": {},
     "output_type": "execute_result"
    }
   ],
   "source": [
    "white"
   ]
  },
  {
   "cell_type": "code",
   "execution_count": 21,
   "metadata": {},
   "outputs": [
    {
     "data": {
      "text/plain": [
       "<function dict.values>"
      ]
     },
     "execution_count": 21,
     "metadata": {},
     "output_type": "execute_result"
    },
    {
     "data": {
      "image/png": "[encoded data removed]",
      "text/plain": [
       "<Figure size 432x288 with 1 Axes>"
      ]
     },
     "metadata": {
      "needs_background": "light"
     },
     "output_type": "display_data"
    }
   ],
   "source": [
    "max_hist_data = max(hist_data.values())\n",
    "x_range = np.arange(0,256,1)\n",
    "\n",
    "x_range\n",
    "plt.bar(x_range,hist_data.values())\n",
    "hist_data.values"
   ]
  },
  {
   "cell_type": "code",
   "execution_count": null,
   "metadata": {},
   "outputs": [],
   "source": []
  }
 ],
 "metadata": {
  "kernelspec": {
   "display_name": "Python 3",
   "language": "python",
   "name": "python3"
  },
  "language_info": {
   "codemirror_mode": {
    "name": "ipython",
    "version": 3
   },
   "file_extension": ".py",
   "mimetype": "text/x-python",
   "name": "python",
   "nbconvert_exporter": "python",
   "pygments_lexer": "ipython3",
   "version": "3.7.5"
  }
 },
 "nbformat": 4,
 "nbformat_minor": 2
}
