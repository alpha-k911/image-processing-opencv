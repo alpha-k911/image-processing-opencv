{
 "cells": [
  {
   "cell_type": "code",
   "execution_count": 46,
   "metadata": {},
   "outputs": [],
   "source": [
    "import cv2\n",
    "import numpy as np\n",
    "import math"
   ]
  },
  {
   "cell_type": "code",
   "execution_count": 14,
   "metadata": {},
   "outputs": [],
   "source": [
    "def show(image):\n",
    "    cv2.imshow(\"image\",image)\n",
    "    cv2.waitKey(0)\n",
    "    cv2.destroyAllWindows()"
   ]
  },
  {
   "cell_type": "code",
   "execution_count": 15,
   "metadata": {
    "scrolled": true
   },
   "outputs": [
    {
     "data": {
      "text/plain": [
       "(256, 256)"
      ]
     },
     "execution_count": 15,
     "metadata": {},
     "output_type": "execute_result"
    }
   ],
   "source": [
    "img = cv2.imread(\"samples/cameraman.tif\",0)\n",
    "img.shape"
   ]
  },
  {
   "cell_type": "code",
   "execution_count": 4,
   "metadata": {
    "scrolled": true
   },
   "outputs": [
    {
     "data": {
      "text/plain": [
       "array([2, 3])"
      ]
     },
     "execution_count": 4,
     "metadata": {},
     "output_type": "execute_result"
    }
   ],
   "source": [
    "a = np.array([[1,1],[0,1]])\n",
    "b = np.array([[1,2],[1,1]])\n",
    "np.dot(a,b)[0]"
   ]
  },
  {
   "cell_type": "code",
   "execution_count": 5,
   "metadata": {},
   "outputs": [
    {
     "data": {
      "text/plain": [
       "array([[156, 159, 158, ..., 151, 152, 152],\n",
       "       [160, 154, 157, ..., 154, 155, 153],\n",
       "       [156, 159, 158, ..., 151, 152, 152],\n",
       "       ...,\n",
       "       [114, 132, 123, ..., 135, 137, 114],\n",
       "       [121, 126, 130, ..., 133, 130, 113],\n",
       "       [121, 126, 130, ..., 133, 130, 113]], dtype=uint8)"
      ]
     },
     "execution_count": 5,
     "metadata": {},
     "output_type": "execute_result"
    }
   ],
   "source": [
    "img"
   ]
  },
  {
   "cell_type": "code",
   "execution_count": 6,
   "metadata": {},
   "outputs": [],
   "source": [
    "M = np.array([\n",
    "    [2,0,0],\n",
    "    [0,1,0],\n",
    "    [0,0,1]\n",
    "])"
   ]
  },
  {
   "cell_type": "code",
   "execution_count": 7,
   "metadata": {
    "scrolled": true
   },
   "outputs": [
    {
     "ename": "ValueError",
     "evalue": "operands could not be broadcast together with shapes (256,256) (3,3) ",
     "output_type": "error",
     "traceback": [
      "\u001b[0;31m---------------------------------------------------------------------------\u001b[0m",
      "\u001b[0;31mValueError\u001b[0m                                Traceback (most recent call last)",
      "\u001b[0;32m<ipython-input-7-4b8b0d65e0ef>\u001b[0m in \u001b[0;36m<module>\u001b[0;34m()\u001b[0m\n\u001b[0;32m----> 1\u001b[0;31m \u001b[0mnp\u001b[0m\u001b[0;34m.\u001b[0m\u001b[0mmultiply\u001b[0m\u001b[0;34m(\u001b[0m\u001b[0mimg\u001b[0m\u001b[0;34m,\u001b[0m\u001b[0mM\u001b[0m\u001b[0;34m)\u001b[0m\u001b[0;34m\u001b[0m\u001b[0;34m\u001b[0m\u001b[0m\n\u001b[0m",
      "\u001b[0;31mValueError\u001b[0m: operands could not be broadcast together with shapes (256,256) (3,3) "
     ]
    }
   ],
   "source": [
    "np.multiply(img,M)"
   ]
  },
  {
   "cell_type": "code",
   "execution_count": null,
   "metadata": {},
   "outputs": [],
   "source": [
    "ori_cor = np.array([\n",
    "    [0,0,0],\n",
    "    [10,20,0],\n",
    "    [20,20,1]\n",
    "])\n",
    "new_cor = np.array([\n",
    "    [30,20,0],\n",
    "    [40,40,0],\n",
    "    [50,40,1]\n",
    "])\n",
    "# new_cor = np.array([\n",
    "#     [60,20,0],\n",
    "#     [70,40,0],\n",
    "#     [80,40,1]\n",
    "# ])"
   ]
  },
  {
   "cell_type": "code",
   "execution_count": null,
   "metadata": {},
   "outputs": [],
   "source": [
    "T = np.linalg.inv(new_cor)*ori_cor\n",
    "T"
   ]
  },
  {
   "cell_type": "code",
   "execution_count": null,
   "metadata": {},
   "outputs": [],
   "source": [
    "dis = np.zeros((256,256),dtype='uint8')\n",
    "w,h = img.shape\n",
    "print(w,h)\n",
    "c = 0\n",
    "for x in range(w):\n",
    "    for y in range(h):\n",
    "        u,v,p = np.dot(T,np.array([x,y,1]))\n",
    "#         u,v,w = np.dot(T,np.array([x,y,1]))\n",
    "        u = int(u)\n",
    "        v = int(v)\n",
    "#         print(u,v,x,y)\n",
    "        c += 1\n",
    "#         if v < h:\n",
    "#             print(\"hel\")\n",
    "        if 0 < u < w and 0 < v < h:\n",
    "            print(c)\n",
    "            dis[u,v] = img[x,y]\n",
    "print(c)"
   ]
  },
  {
   "cell_type": "code",
   "execution_count": null,
   "metadata": {},
   "outputs": [],
   "source": [
    "# show([img,dis])\n",
    "# show(dis)\n",
    "cv2.imshow(\"image\",img)\n",
    "cv2.waitKey(0)\n",
    "cv2.imshow(\"image 1\",dis)\n",
    "cv2.waitKey(0)\n",
    "cv2.destroyAllWindows()"
   ]
  },
  {
   "cell_type": "code",
   "execution_count": null,
   "metadata": {
    "scrolled": true
   },
   "outputs": [],
   "source": [
    "np.dot(a,b)"
   ]
  },
  {
   "cell_type": "code",
   "execution_count": null,
   "metadata": {
    "scrolled": true
   },
   "outputs": [],
   "source": [
    "for a,b in img:\n",
    "    print(a,b)"
   ]
  },
  {
   "cell_type": "code",
   "execution_count": 45,
   "metadata": {},
   "outputs": [
    {
     "name": "stdout",
     "output_type": "stream",
     "text": [
      "[[ 1  0 20]\n",
      " [ 0  1 30]\n",
      " [ 0  0  1]]\n",
      "0 0 20 30\n"
     ]
    }
   ],
   "source": [
    "#translating image to right by 30 pixels and down by 20 pixels\n",
    "new_img = np.zeros((256,256,1),dtype=np.uint8)\n",
    "T = np.array([[1,0,20],[0,1,30],[0,0,1]])\n",
    "print(T)\n",
    "mark = False\n",
    "w,h = img.shape\n",
    "for i, row in enumerate(img):\n",
    "    for j, col in enumerate(img):\n",
    "        data = img[i,j]\n",
    "        ori_cor = np.array([i,j,1])\n",
    "        i_new, j_new, _ = T @ ori_cor\n",
    "        if not mark:\n",
    "            print(i,j,i_new,j_new)\n",
    "            mark = True\n",
    "        if i_new < h and j_new < w:\n",
    "            new_img[i_new, j_new, :] = data\n",
    "show(new_img)"
   ]
  },
  {
   "cell_type": "code",
   "execution_count": 69,
   "metadata": {},
   "outputs": [
    {
     "name": "stdout",
     "output_type": "stream",
     "text": [
      "[[ 0.92387953  0.38268343  0.        ]\n",
      " [-0.38268343  0.92387953  0.        ]\n",
      " [ 0.          0.          1.        ]]\n",
      "0 0 0.0 0.0\n"
     ]
    }
   ],
   "source": [
    "#translating image by 45 clockwise\n",
    "new_img = np.zeros((256,256,1),dtype=np.uint8)\n",
    "angle = math.pi/8\n",
    "T = np.array([\n",
    "    [math.cos(angle),math.sin(angle),0],\n",
    "    [-math.sin(angle),math.cos(angle),0],\n",
    "    [0,0,1]])\n",
    "print(T)\n",
    "mark = False\n",
    "h,w,_ = new_img.shape\n",
    "for i, row in enumerate(img):\n",
    "    for j, col in enumerate(img):\n",
    "        data = img[i,j]\n",
    "        ori_cor = np.array([i,j,1])\n",
    "        i_new, j_new, _ = T @ ori_cor\n",
    "        if not mark:\n",
    "            print(i,j,i_new,j_new)\n",
    "            mark = True\n",
    "        i_new, j_new = int(i_new), int(j_new)\n",
    "        if i_new < h and j_new < w:\n",
    "            new_img[i_new, j_new, :] = data\n",
    "show(new_img)"
   ]
  },
  {
   "cell_type": "code",
   "execution_count": 65,
   "metadata": {},
   "outputs": [
    {
     "name": "stdout",
     "output_type": "stream",
     "text": [
      "[[0.5 0.  0. ]\n",
      " [0.  2.  0. ]\n",
      " [0.  0.  1. ]]\n",
      "512 128\n",
      "0 0 0.0 0.0\n"
     ]
    }
   ],
   "source": [
    "#translating image by 45 clockwise\n",
    "new_img = np.zeros((128,512,1),dtype=np.uint8)\n",
    "angle = math.pi/8\n",
    "T = np.array([\n",
    "    [0.5,0,0],\n",
    "    [0,2,0],\n",
    "    [0,0,1]])\n",
    "print(T)\n",
    "mark = False\n",
    "h,w,_ = new_img.shape\n",
    "print(w,h)\n",
    "for i, row in enumerate(img):\n",
    "    for j, col in enumerate(img):\n",
    "        data = img[i,j]\n",
    "        ori_cor = np.array([i,j,1])\n",
    "        i_new, j_new, _ = T @ ori_cor\n",
    "        if not mark:\n",
    "            print(i,j,i_new,j_new)\n",
    "            mark = True\n",
    "        i_new, j_new = int(i_new), int(j_new)\n",
    "        if i_new < h and j_new < w:\n",
    "            new_img[i_new, j_new, :] = data\n",
    "show(new_img)"
   ]
  },
  {
   "cell_type": "code",
   "execution_count": null,
   "metadata": {},
   "outputs": [],
   "source": []
  },
  {
   "cell_type": "code",
   "execution_count": null,
   "metadata": {},
   "outputs": [],
   "source": []
  },
  {
   "cell_type": "code",
   "execution_count": null,
   "metadata": {},
   "outputs": [],
   "source": []
  },
  {
   "cell_type": "code",
   "execution_count": null,
   "metadata": {},
   "outputs": [],
   "source": []
  },
  {
   "cell_type": "code",
   "execution_count": null,
   "metadata": {},
   "outputs": [],
   "source": []
  }
 ],
 "metadata": {
  "kernelspec": {
   "display_name": "Python 3",
   "language": "python",
   "name": "python3"
  },
  "language_info": {
   "codemirror_mode": {
    "name": "ipython",
    "version": 3
   },
   "file_extension": ".py",
   "mimetype": "text/x-python",
   "name": "python",
   "nbconvert_exporter": "python",
   "pygments_lexer": "ipython3",
   "version": "3.7.5"
  }
 },
 "nbformat": 4,
 "nbformat_minor": 2
}
