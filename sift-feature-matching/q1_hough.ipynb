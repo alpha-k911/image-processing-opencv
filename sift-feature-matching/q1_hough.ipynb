{
 "cells": [
  {
   "cell_type": "code",
   "execution_count": 71,
   "metadata": {},
   "outputs": [],
   "source": [
    "import cv2\n",
    "import numpy as np\n",
    "from matplotlib import pyplot as plt\n",
    "import math\n",
    "from matplotlib.pyplot import imshow"
   ]
  },
  {
   "cell_type": "code",
   "execution_count": 72,
   "metadata": {},
   "outputs": [],
   "source": [
    "def display(img):\n",
    "    cv2.imshow(\"image\",img)\n",
    "    cv2.waitKey(0)\n",
    "    cv2.destroyAllWindows()\n",
    "\n",
    "def save(path, img):\n",
    "    cv2.imwrite(path,img)"
   ]
  },
  {
   "cell_type": "code",
   "execution_count": 73,
   "metadata": {
    "scrolled": true
   },
   "outputs": [
    {
     "data": {
      "image/png": "[encoded data removed]",
      "text/plain": [
       "<Figure size 432x288 with 1 Axes>"
      ]
     },
     "metadata": {
      "needs_background": "light"
     },
     "output_type": "display_data"
    }
   ],
   "source": [
    "img = cv2.imread(\"data/ps1.png\",0)\n",
    "imshow(img, cmap='gray');"
   ]
  },
  {
   "cell_type": "code",
   "execution_count": 8,
   "metadata": {},
   "outputs": [
    {
     "data": {
      "text/plain": [
       "(256, 256)"
      ]
     },
     "execution_count": 8,
     "metadata": {},
     "output_type": "execute_result"
    }
   ],
   "source": [
    "# plt.imshow(img,cmap='gray');\n",
    "h, w =img.shape\n",
    "h, w"
   ]
  },
  {
   "cell_type": "code",
   "execution_count": 74,
   "metadata": {
    "scrolled": true
   },
   "outputs": [
    {
     "data": {
      "image/png": "[encoded data removed]",
      "text/plain": [
       "<Figure size 432x288 with 1 Axes>"
      ]
     },
     "metadata": {
      "needs_background": "light"
     },
     "output_type": "display_data"
    }
   ],
   "source": [
    "out = cv2.Canny(img,100,150)\n",
    "imshow(out, cmap='gray');"
   ]
  },
  {
   "cell_type": "code",
   "execution_count": 6,
   "metadata": {},
   "outputs": [
    {
     "data": {
      "text/plain": [
       "(256, 256)"
      ]
     },
     "execution_count": 6,
     "metadata": {},
     "output_type": "execute_result"
    }
   ],
   "source": [
    "out.shape"
   ]
  },
  {
   "cell_type": "code",
   "execution_count": 11,
   "metadata": {},
   "outputs": [
    {
     "data": {
      "text/plain": [
       "0.7071067811865476"
      ]
     },
     "execution_count": 11,
     "metadata": {},
     "output_type": "execute_result"
    }
   ],
   "source": [
    "math.cos(math.radians(45))"
   ]
  },
  {
   "cell_type": "code",
   "execution_count": 9,
   "metadata": {},
   "outputs": [],
   "source": [
    "a={(i,j):0 for i in range(-800,801) for j in range(-100,101)}"
   ]
  },
  {
   "cell_type": "code",
   "execution_count": 11,
   "metadata": {},
   "outputs": [
    {
     "data": {
      "text/plain": [
       "361.984"
      ]
     },
     "execution_count": 11,
     "metadata": {},
     "output_type": "execute_result"
    }
   ],
   "source": [
    "256*1.414"
   ]
  },
  {
   "cell_type": "code",
   "execution_count": 7,
   "metadata": {
    "scrolled": false
   },
   "outputs": [],
   "source": [
    "# a"
   ]
  },
  {
   "cell_type": "code",
   "execution_count": 75,
   "metadata": {},
   "outputs": [],
   "source": [
    "def hough_lines_acc(img,theta=(-90,90)):\n",
    "    h, w = img.shape\n",
    "    angles = list(range(theta[0],theta[1]))\n",
    "    print(angles[0],angles[-1],len(angles))\n",
    "    width = len(angles) \n",
    "    empty = np.zeros((int(h*2*2),width))\n",
    "    r = np.arange(0,h*2)\n",
    "    print(width//2)\n",
    "    assumed = []\n",
    "    c = 0\n",
    "    m = 0\n",
    "    for x in range(h):\n",
    "        for y in range(w):\n",
    "            if img[x,y] == 255:\n",
    "                c += 1\n",
    "                for angle in angles: #iterating -90 > 89\n",
    "                    rho = (x+1)*math.cos(math.radians(angle)) + (y+1)*math.sin(math.radians(angle))\n",
    "                    if rho > m:\n",
    "                        m = rho\n",
    "                    empty[int(rho),angle+width//2] += 1\n",
    "                    assumed.append((int(rho),angle+width//2))\n",
    "    print(empty.shape)\n",
    "    empty = np.vstack((empty[h*2:], empty[0:h*2]))\n",
    "    print(c,m)\n",
    "    return empty.astype(np.uint8), assumed #np.array(assumed)"
   ]
  },
  {
   "cell_type": "code",
   "execution_count": 76,
   "metadata": {
    "scrolled": false
   },
   "outputs": [
    {
     "name": "stdout",
     "output_type": "stream",
     "text": [
      "-90 89 180\n",
      "90\n",
      "(1024, 180)\n",
      "1406 347.89653634378135\n"
     ]
    }
   ],
   "source": [
    "H,assumed = hough_lines_acc(out,theta=(-90,90))"
   ]
  },
  {
   "cell_type": "code",
   "execution_count": 77,
   "metadata": {},
   "outputs": [],
   "source": [
    "display(H);"
   ]
  },
  {
   "cell_type": "code",
   "execution_count": 78,
   "metadata": {},
   "outputs": [],
   "source": [
    "h_inv = 255-H\n",
    "display(h_inv)\n",
    "save('data/H_inv.png', h_inv)"
   ]
  },
  {
   "cell_type": "code",
   "execution_count": 47,
   "metadata": {},
   "outputs": [
    {
     "data": {
      "text/plain": [
       "(1024, 180)"
      ]
     },
     "execution_count": 47,
     "metadata": {},
     "output_type": "execute_result"
    }
   ],
   "source": [
    "H_f = H.flatten()\n",
    "H_f[::-1].sort()\n",
    "a = H_f[:10]\n",
    "a.min()\n",
    "H.shape"
   ]
  },
  {
   "cell_type": "code",
   "execution_count": 79,
   "metadata": {},
   "outputs": [],
   "source": [
    "def hough_peaks(H, top):\n",
    "    h, w = H.shape\n",
    "#     print(h, w//2)\n",
    "    H_f = H.flatten()\n",
    "    H_f[::-1].sort()\n",
    "    a = H_f[:top]\n",
    "#     print(a)\n",
    "    rho_out, angle_out = np.where(H>=a.min())\n",
    "    rho_out = rho_out - h//2\n",
    "    angle_out = angle_out-w//2\n",
    "#     print(H[rho_out+512,angle_out+90])\n",
    "#     print(rho_out)\n",
    "#     print(angle_out)\n",
    "    return (a,rho_out, angle_out)\n",
    "    \n",
    "    "
   ]
  },
  {
   "cell_type": "code",
   "execution_count": 80,
   "metadata": {},
   "outputs": [
    {
     "data": {
      "text/plain": [
       "array([236, 235, 233, 229, 222, 129, 107,  60,  60,  60], dtype=uint8)"
      ]
     },
     "execution_count": 80,
     "metadata": {},
     "output_type": "execute_result"
    }
   ],
   "source": [
    "peaks = hough_peaks(H,10)\n",
    "peaks[0]"
   ]
  },
  {
   "cell_type": "code",
   "execution_count": 81,
   "metadata": {
    "scrolled": true
   },
   "outputs": [
    {
     "name": "stdout",
     "output_type": "stream",
     "text": [
      "[222 129 229 233 235 236]\n"
     ]
    }
   ],
   "source": [
    "rho_out, angle_out = np.where(H>107)\n",
    "print(H[rho_out,angle_out])\n",
    "rho_out = rho_out - 512\n",
    "angle_out = angle_out-90\n"
   ]
  },
  {
   "cell_type": "code",
   "execution_count": 52,
   "metadata": {},
   "outputs": [
    {
     "name": "stdout",
     "output_type": "stream",
     "text": [
      "-246 -90\n",
      "-127 -90\n",
      "-8 -90\n",
      "9 0\n",
      "128 0\n",
      "246 0\n"
     ]
    }
   ],
   "source": [
    "for i,j in zip(rho_out, angle_out):\n",
    "    print(i,j)"
   ]
  },
  {
   "cell_type": "code",
   "execution_count": 53,
   "metadata": {},
   "outputs": [
    {
     "data": {
      "text/plain": [
       "42300"
      ]
     },
     "execution_count": 53,
     "metadata": {},
     "output_type": "execute_result"
    }
   ],
   "source": [
    "assumed.index((-246,0))"
   ]
  },
  {
   "cell_type": "code",
   "execution_count": 54,
   "metadata": {
    "scrolled": true
   },
   "outputs": [
    {
     "data": {
      "text/plain": [
       "(-246, 0)"
      ]
     },
     "execution_count": 54,
     "metadata": {},
     "output_type": "execute_result"
    }
   ],
   "source": [
    "assumed[42300]"
   ]
  },
  {
   "cell_type": "code",
   "execution_count": 65,
   "metadata": {},
   "outputs": [
    {
     "name": "stderr",
     "output_type": "stream",
     "text": [
      "<ipython-input-65-bc2b0eb4b745>:4: RuntimeWarning: divide by zero encountered in true_divide\n",
      "  y = (d - x*np.cos(math.radians(ang)))/np.sin(math.radians(ang))\n"
     ]
    },
    {
     "data": {
      "image/png": "[encoded data removed]",
      "text/plain": [
       "<Figure size 432x288 with 1 Axes>"
      ]
     },
     "metadata": {
      "needs_background": "light"
     },
     "output_type": "display_data"
    }
   ],
   "source": [
    "for d,ang in zip(rho_out, angle_out):\n",
    "    x = np.linspace(0,w,100)\n",
    "    plt.ylim(0,h)\n",
    "    y = (d - x*np.cos(math.radians(ang)))/np.sin(math.radians(ang))\n",
    "#     print(y)\n",
    "    if ang == 0:\n",
    "        plt.axvline(d,ymin=0,ymax=h)\n",
    "    else:\n",
    "        plt.plot(x, y, '-r')#,ymin=0,ymax=h)\n",
    "\n",
    "plt.xlabel('x', color='#1C2833')\n",
    "plt.ylabel('y', color='#1C2833')\n",
    "\n",
    "plt.grid()\n",
    "plt.show()"
   ]
  },
  {
   "cell_type": "code",
   "execution_count": 64,
   "metadata": {
    "scrolled": true
   },
   "outputs": [
    {
     "name": "stdout",
     "output_type": "stream",
     "text": [
      "([9, 9], [0, 256])\n",
      "([128, 128], [0, 256])\n",
      "([246, 246], [0, 256])\n"
     ]
    },
    {
     "data": {
      "image/png": "[encoded data removed]",
      "text/plain": [
       "<Figure size 432x288 with 1 Axes>"
      ]
     },
     "metadata": {
      "needs_background": "light"
     },
     "output_type": "display_data"
    }
   ],
   "source": [
    "# plt.plot(img)\n",
    "for d,ang in zip(rho_out, angle_out):\n",
    "    x = np.linspace(0,w,100)\n",
    "#     print(y)\n",
    "    if ang == 0:\n",
    "        a = plt.axvline(d,ymin=0,ymax=h)\n",
    "        print(a.get_data())\n",
    "    else:\n",
    "        y = (d - x*np.cos(math.radians(ang)))/np.sin(math.radians(ang))\n",
    "        plt.plot(x, y,'-r')\n",
    "\n",
    "# plt.plot(y, x, '-b')\n",
    "plt.xlabel('x', color='#1C2833')\n",
    "plt.ylabel('y', color='#1C2833')\n",
    "plt.ylim(0,h)\n",
    "plt.gca().invert_yaxis()\n",
    "# print(plt.get())\n",
    "# plt.legend(loc='upper left')\n",
    "# plt.grid()\n",
    "a = plt.show()"
   ]
  },
  {
   "cell_type": "code",
   "execution_count": 82,
   "metadata": {},
   "outputs": [],
   "source": [
    "def hough_lines_draw(img,peaks):\n",
    "    plt.imshow(img,cmap='gray')\n",
    "    h,w = img.shape\n",
    "    for d,ang in zip(peaks[1], peaks[2]):\n",
    "        x = np.linspace(0,w,100)\n",
    "    #     print(y)\n",
    "        if ang == 0:\n",
    "            p = 1\n",
    "            a = plt.axvline(d,ymin=0,ymax=h)\n",
    "#             print(a.get_data())\n",
    "        else:\n",
    "            y = (d - (x+1)*np.cos(math.radians(ang)))/np.sin(math.radians(ang))-1\n",
    "#             x = x[0:-1]\n",
    "#             y = y[0:-1]\n",
    "            plt.plot(x, y,'-r')\n",
    "\n",
    "    # plt.plot(y, x, '-b')\n",
    "    plt.xlabel('x', color='#1C2833')\n",
    "    plt.ylabel('y', color='#1C2833')\n",
    "    plt.ylim(0,h-1)\n",
    "    plt.gca().invert_yaxis()\n",
    "    # print(plt.get())\n",
    "    # plt.legend(loc='upper left')\n",
    "    # plt.grid()\n",
    "    plt.savefig('final.png')\n",
    "    plt.show()"
   ]
  },
  {
   "cell_type": "code",
   "execution_count": 86,
   "metadata": {
    "scrolled": false
   },
   "outputs": [
    {
     "data": {
      "image/png": "[encoded data removed]",
      "text/plain": [
       "<Figure size 432x288 with 1 Axes>"
      ]
     },
     "metadata": {
      "needs_background": "light"
     },
     "output_type": "display_data"
    }
   ],
   "source": [
    "hough_lines_draw(img,hough_peaks(H,6))"
   ]
  },
  {
   "cell_type": "code",
   "execution_count": 87,
   "metadata": {},
   "outputs": [],
   "source": [
    "edged_img = cv2.imread('final.png')\n",
    "display(edged_img)"
   ]
  },
  {
   "cell_type": "code",
   "execution_count": 60,
   "metadata": {
    "scrolled": true
   },
   "outputs": [
    {
     "data": {
      "image/png": "[encoded data removed]",
      "text/plain": [
       "<Figure size 432x288 with 1 Axes>"
      ]
     },
     "metadata": {
      "needs_background": "light"
     },
     "output_type": "display_data"
    }
   ],
   "source": [
    "plt.imshow(img, cmap='gray');"
   ]
  },
  {
   "cell_type": "code",
   "execution_count": 59,
   "metadata": {},
   "outputs": [
    {
     "data": {
      "image/png": "[encoded data removed]",
      "text/plain": [
       "<Figure size 432x288 with 1 Axes>"
      ]
     },
     "metadata": {
      "needs_background": "light"
     },
     "output_type": "display_data"
    }
   ],
   "source": [
    "plt.imshow(out, cmap='gray');"
   ]
  },
  {
   "cell_type": "code",
   "execution_count": 129,
   "metadata": {},
   "outputs": [
    {
     "data": {
      "text/plain": [
       "0.7071067811865476"
      ]
     },
     "execution_count": 129,
     "metadata": {},
     "output_type": "execute_result"
    }
   ],
   "source": [
    "np.cos(math.radians(45))"
   ]
  },
  {
   "cell_type": "code",
   "execution_count": null,
   "metadata": {},
   "outputs": [],
   "source": [
    "cv2.imwrite(\"out.png\",H)"
   ]
  },
  {
   "cell_type": "code",
   "execution_count": null,
   "metadata": {},
   "outputs": [],
   "source": []
  }
 ],
 "metadata": {
  "kernelspec": {
   "display_name": "Python 3",
   "language": "python",
   "name": "python3"
  },
  "language_info": {
   "codemirror_mode": {
    "name": "ipython",
    "version": 3
   },
   "file_extension": ".py",
   "mimetype": "text/x-python",
   "name": "python",
   "nbconvert_exporter": "python",
   "pygments_lexer": "ipython3",
   "version": "3.8.3rc1"
  }
 },
 "nbformat": 4,
 "nbformat_minor": 2
}
